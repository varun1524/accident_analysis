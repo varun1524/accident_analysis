{
 "cells": [
  {
   "cell_type": "code",
   "execution_count": 1,
   "metadata": {
    "pycharm": {
     "is_executing": false
    }
   },
   "outputs": [],
   "source": [
    "import numpy as np\n",
    "import pandas as pd\n",
    "import re\n",
    "\n",
    "#Visualisation Libraries\n",
    "import matplotlib.pyplot as plt\n",
    "%matplotlib inline\n",
    "import warnings\n",
    "warnings.filterwarnings('ignore')\n",
    "import seaborn as sns\n",
    "from pandas.plotting import scatter_matrix\n",
    "\n",
    "#Training and Preprocessing Libraries\n",
    "from xgboost import XGBClassifier\n",
    "from imblearn.ensemble import EasyEnsembleClassifier\n",
    "from sklearn.model_selection import cross_val_score\n",
    "from sklearn.model_selection import train_test_split\n",
    "from sklearn.preprocessing import LabelEncoder\n",
    "from sklearn.metrics import roc_auc_score"
   ]
  },
  {
   "cell_type": "code",
   "execution_count": 2,
   "metadata": {
    "pycharm": {
     "metadata": false,
     "name": "#%%\n"
    }
   },
   "outputs": [],
   "source": [
    "class_names = ['Fatal', 'Severe', 'Slight']\n"
   ]
  },
  {
   "cell_type": "code",
   "execution_count": 3,
   "metadata": {
    "pycharm": {}
   },
   "outputs": [],
   "source": [
    "data1 = pd.read_csv(\"./data/accidents_2005_to_2007.csv\")\n",
    "data2 = pd.read_csv(\"./data/accidents_2009_to_2011.csv\")\n",
    "data3 = pd.read_csv(\"./data/accidents_2012_to_2014.csv\")"
   ]
  },
  {
   "cell_type": "code",
   "execution_count": 4,
   "metadata": {
    "pycharm": {}
   },
   "outputs": [],
   "source": [
    "data = pd.concat([data1, data2, data3])\n"
   ]
  },
  {
   "cell_type": "code",
   "execution_count": 5,
   "metadata": {
    "pycharm": {}
   },
   "outputs": [
    {
     "name": "stdout",
     "output_type": "stream",
     "text": [
      "Empty DataFrame\n",
      "Columns: [Accident_Index, Location_Easting_OSGR, Location_Northing_OSGR, Longitude, Latitude, Police_Force, Accident_Severity, Number_of_Vehicles, Number_of_Casualties, Date, Day_of_Week, Time, Local_Authority_(District), Local_Authority_(Highway), 1st_Road_Class, 1st_Road_Number, Road_Type, Speed_limit, Junction_Detail, Junction_Control, 2nd_Road_Class, 2nd_Road_Number, Pedestrian_Crossing-Human_Control, Pedestrian_Crossing-Physical_Facilities, Light_Conditions, Weather_Conditions, Road_Surface_Conditions, Special_Conditions_at_Site, Carriageway_Hazards, Urban_or_Rural_Area, Did_Police_Officer_Attend_Scene_of_Accident, LSOA_of_Accident_Location, Year]\n",
      "Index: []\n",
      "\n",
      "[0 rows x 33 columns]\n"
     ]
    }
   ],
   "source": [
    "type(data)\n",
    "print(data.head(0))"
   ]
  },
  {
   "cell_type": "code",
   "execution_count": 6,
   "metadata": {
    "pycharm": {}
   },
   "outputs": [
    {
     "data": {
      "text/html": [
       "<style  type=\"text/css\" >\n",
       "    #T_cb0477fa_662b_11e9_8ecf_7831c1d16a42row0_col1 {\n",
       "            background-color:  yellow;\n",
       "        }    #T_cb0477fa_662b_11e9_8ecf_7831c1d16a42row8_col0 {\n",
       "            background-color:  yellow;\n",
       "        }</style><table id=\"T_cb0477fa_662b_11e9_8ecf_7831c1d16a42\" ><thead>    <tr>        <th class=\"blank level0\" ></th>        <th class=\"col_heading level0 col0\" >Year</th>        <th class=\"col_heading level0 col1\" >Number_of_Casualties</th>    </tr></thead><tbody>\n",
       "                <tr>\n",
       "                        <th id=\"T_cb0477fa_662b_11e9_8ecf_7831c1d16a42level0_row0\" class=\"row_heading level0 row0\" >0</th>\n",
       "                        <td id=\"T_cb0477fa_662b_11e9_8ecf_7831c1d16a42row0_col0\" class=\"data row0 col0\" >2005</td>\n",
       "                        <td id=\"T_cb0477fa_662b_11e9_8ecf_7831c1d16a42row0_col1\" class=\"data row0 col1\" >271017</td>\n",
       "            </tr>\n",
       "            <tr>\n",
       "                        <th id=\"T_cb0477fa_662b_11e9_8ecf_7831c1d16a42level0_row1\" class=\"row_heading level0 row1\" >1</th>\n",
       "                        <td id=\"T_cb0477fa_662b_11e9_8ecf_7831c1d16a42row1_col0\" class=\"data row1 col0\" >2006</td>\n",
       "                        <td id=\"T_cb0477fa_662b_11e9_8ecf_7831c1d16a42row1_col1\" class=\"data row1 col1\" >258404</td>\n",
       "            </tr>\n",
       "            <tr>\n",
       "                        <th id=\"T_cb0477fa_662b_11e9_8ecf_7831c1d16a42level0_row2\" class=\"row_heading level0 row2\" >2</th>\n",
       "                        <td id=\"T_cb0477fa_662b_11e9_8ecf_7831c1d16a42row2_col0\" class=\"data row2 col0\" >2007</td>\n",
       "                        <td id=\"T_cb0477fa_662b_11e9_8ecf_7831c1d16a42row2_col1\" class=\"data row2 col1\" >247780</td>\n",
       "            </tr>\n",
       "            <tr>\n",
       "                        <th id=\"T_cb0477fa_662b_11e9_8ecf_7831c1d16a42level0_row3\" class=\"row_heading level0 row3\" >3</th>\n",
       "                        <td id=\"T_cb0477fa_662b_11e9_8ecf_7831c1d16a42row3_col0\" class=\"data row3 col0\" >2009</td>\n",
       "                        <td id=\"T_cb0477fa_662b_11e9_8ecf_7831c1d16a42row3_col1\" class=\"data row3 col1\" >222146</td>\n",
       "            </tr>\n",
       "            <tr>\n",
       "                        <th id=\"T_cb0477fa_662b_11e9_8ecf_7831c1d16a42level0_row4\" class=\"row_heading level0 row4\" >4</th>\n",
       "                        <td id=\"T_cb0477fa_662b_11e9_8ecf_7831c1d16a42row4_col0\" class=\"data row4 col0\" >2010</td>\n",
       "                        <td id=\"T_cb0477fa_662b_11e9_8ecf_7831c1d16a42row4_col1\" class=\"data row4 col1\" >208648</td>\n",
       "            </tr>\n",
       "            <tr>\n",
       "                        <th id=\"T_cb0477fa_662b_11e9_8ecf_7831c1d16a42level0_row5\" class=\"row_heading level0 row5\" >5</th>\n",
       "                        <td id=\"T_cb0477fa_662b_11e9_8ecf_7831c1d16a42row5_col0\" class=\"data row5 col0\" >2011</td>\n",
       "                        <td id=\"T_cb0477fa_662b_11e9_8ecf_7831c1d16a42row5_col1\" class=\"data row5 col1\" >203950</td>\n",
       "            </tr>\n",
       "            <tr>\n",
       "                        <th id=\"T_cb0477fa_662b_11e9_8ecf_7831c1d16a42level0_row6\" class=\"row_heading level0 row6\" >6</th>\n",
       "                        <td id=\"T_cb0477fa_662b_11e9_8ecf_7831c1d16a42row6_col0\" class=\"data row6 col0\" >2012</td>\n",
       "                        <td id=\"T_cb0477fa_662b_11e9_8ecf_7831c1d16a42row6_col1\" class=\"data row6 col1\" >241954</td>\n",
       "            </tr>\n",
       "            <tr>\n",
       "                        <th id=\"T_cb0477fa_662b_11e9_8ecf_7831c1d16a42level0_row7\" class=\"row_heading level0 row7\" >7</th>\n",
       "                        <td id=\"T_cb0477fa_662b_11e9_8ecf_7831c1d16a42row7_col0\" class=\"data row7 col0\" >2013</td>\n",
       "                        <td id=\"T_cb0477fa_662b_11e9_8ecf_7831c1d16a42row7_col1\" class=\"data row7 col1\" >183670</td>\n",
       "            </tr>\n",
       "            <tr>\n",
       "                        <th id=\"T_cb0477fa_662b_11e9_8ecf_7831c1d16a42level0_row8\" class=\"row_heading level0 row8\" >8</th>\n",
       "                        <td id=\"T_cb0477fa_662b_11e9_8ecf_7831c1d16a42row8_col0\" class=\"data row8 col0\" >2014</td>\n",
       "                        <td id=\"T_cb0477fa_662b_11e9_8ecf_7831c1d16a42row8_col1\" class=\"data row8 col1\" >194477</td>\n",
       "            </tr>\n",
       "    </tbody></table>"
      ],
      "text/plain": [
       "<pandas.io.formats.style.Styler at 0x11edaacf8>"
      ]
     },
     "execution_count": 6,
     "metadata": {},
     "output_type": "execute_result"
    }
   ],
   "source": [
    "def max_val(s):\n",
    "    is_max = s == s.max()\n",
    "    return ['background-color: yellow' if v else '' for v in is_max]\n",
    "\n",
    "year_wise_casualties = data.groupby(['Year'])['Number_of_Casualties'].sum()\n",
    "year_wise_casualties = year_wise_casualties.reset_index()\n",
    "year_wise_casualties = year_wise_casualties.style.apply(max_val, axis=0)\n",
    "year_wise_casualties"
   ]
  },
  {
   "cell_type": "code",
   "execution_count": 7,
   "metadata": {
    "pycharm": {}
   },
   "outputs": [
    {
     "data": {
      "text/html": [
       "<style  type=\"text/css\" >\n",
       "    #T_cb2c5b1c_662b_11e9_8ecf_7831c1d16a42row0_col1 {\n",
       "            background-color:  yellow;\n",
       "        }    #T_cb2c5b1c_662b_11e9_8ecf_7831c1d16a42row0_col3 {\n",
       "            background-color:  yellow;\n",
       "        }    #T_cb2c5b1c_662b_11e9_8ecf_7831c1d16a42row1_col3 {\n",
       "            background-color:  yellow;\n",
       "        }    #T_cb2c5b1c_662b_11e9_8ecf_7831c1d16a42row2_col2 {\n",
       "            background-color:  yellow;\n",
       "        }    #T_cb2c5b1c_662b_11e9_8ecf_7831c1d16a42row2_col3 {\n",
       "            background-color:  yellow;\n",
       "        }    #T_cb2c5b1c_662b_11e9_8ecf_7831c1d16a42row3_col3 {\n",
       "            background-color:  yellow;\n",
       "        }    #T_cb2c5b1c_662b_11e9_8ecf_7831c1d16a42row4_col0 {\n",
       "            background-color:  yellow;\n",
       "        }    #T_cb2c5b1c_662b_11e9_8ecf_7831c1d16a42row4_col3 {\n",
       "            background-color:  yellow;\n",
       "        }    #T_cb2c5b1c_662b_11e9_8ecf_7831c1d16a42row5_col3 {\n",
       "            background-color:  yellow;\n",
       "        }    #T_cb2c5b1c_662b_11e9_8ecf_7831c1d16a42row6_col3 {\n",
       "            background-color:  yellow;\n",
       "        }</style><table id=\"T_cb2c5b1c_662b_11e9_8ecf_7831c1d16a42\" ><thead>    <tr>        <th class=\"blank level0\" ></th>        <th class=\"col_heading level0 col0\" >Day_of_Week</th>        <th class=\"col_heading level0 col1\" >Number_of_Casualties</th>        <th class=\"col_heading level0 col2\" colspan=2>Speed_limit</th>    </tr>    <tr>        <th class=\"blank level1\" ></th>        <th class=\"col_heading level1 col0\" ></th>        <th class=\"col_heading level1 col1\" >sum</th>        <th class=\"col_heading level1 col2\" >min</th>        <th class=\"col_heading level1 col3\" >max</th>    </tr></thead><tbody>\n",
       "                <tr>\n",
       "                        <th id=\"T_cb2c5b1c_662b_11e9_8ecf_7831c1d16a42level0_row0\" class=\"row_heading level0 row0\" >0</th>\n",
       "                        <td id=\"T_cb2c5b1c_662b_11e9_8ecf_7831c1d16a42row0_col0\" class=\"data row0 col0\" >6</td>\n",
       "                        <td id=\"T_cb2c5b1c_662b_11e9_8ecf_7831c1d16a42row0_col1\" class=\"data row0 col1\" >331934</td>\n",
       "                        <td id=\"T_cb2c5b1c_662b_11e9_8ecf_7831c1d16a42row0_col2\" class=\"data row0 col2\" >10</td>\n",
       "                        <td id=\"T_cb2c5b1c_662b_11e9_8ecf_7831c1d16a42row0_col3\" class=\"data row0 col3\" >70</td>\n",
       "            </tr>\n",
       "            <tr>\n",
       "                        <th id=\"T_cb2c5b1c_662b_11e9_8ecf_7831c1d16a42level0_row1\" class=\"row_heading level0 row1\" >1</th>\n",
       "                        <td id=\"T_cb2c5b1c_662b_11e9_8ecf_7831c1d16a42row1_col0\" class=\"data row1 col0\" >5</td>\n",
       "                        <td id=\"T_cb2c5b1c_662b_11e9_8ecf_7831c1d16a42row1_col1\" class=\"data row1 col1\" >299044</td>\n",
       "                        <td id=\"T_cb2c5b1c_662b_11e9_8ecf_7831c1d16a42row1_col2\" class=\"data row1 col2\" >10</td>\n",
       "                        <td id=\"T_cb2c5b1c_662b_11e9_8ecf_7831c1d16a42row1_col3\" class=\"data row1 col3\" >70</td>\n",
       "            </tr>\n",
       "            <tr>\n",
       "                        <th id=\"T_cb2c5b1c_662b_11e9_8ecf_7831c1d16a42level0_row2\" class=\"row_heading level0 row2\" >2</th>\n",
       "                        <td id=\"T_cb2c5b1c_662b_11e9_8ecf_7831c1d16a42row2_col0\" class=\"data row2 col0\" >4</td>\n",
       "                        <td id=\"T_cb2c5b1c_662b_11e9_8ecf_7831c1d16a42row2_col1\" class=\"data row2 col1\" >297756</td>\n",
       "                        <td id=\"T_cb2c5b1c_662b_11e9_8ecf_7831c1d16a42row2_col2\" class=\"data row2 col2\" >20</td>\n",
       "                        <td id=\"T_cb2c5b1c_662b_11e9_8ecf_7831c1d16a42row2_col3\" class=\"data row2 col3\" >70</td>\n",
       "            </tr>\n",
       "            <tr>\n",
       "                        <th id=\"T_cb2c5b1c_662b_11e9_8ecf_7831c1d16a42level0_row3\" class=\"row_heading level0 row3\" >3</th>\n",
       "                        <td id=\"T_cb2c5b1c_662b_11e9_8ecf_7831c1d16a42row3_col0\" class=\"data row3 col0\" >3</td>\n",
       "                        <td id=\"T_cb2c5b1c_662b_11e9_8ecf_7831c1d16a42row3_col1\" class=\"data row3 col1\" >294476</td>\n",
       "                        <td id=\"T_cb2c5b1c_662b_11e9_8ecf_7831c1d16a42row3_col2\" class=\"data row3 col2\" >10</td>\n",
       "                        <td id=\"T_cb2c5b1c_662b_11e9_8ecf_7831c1d16a42row3_col3\" class=\"data row3 col3\" >70</td>\n",
       "            </tr>\n",
       "            <tr>\n",
       "                        <th id=\"T_cb2c5b1c_662b_11e9_8ecf_7831c1d16a42level0_row4\" class=\"row_heading level0 row4\" >4</th>\n",
       "                        <td id=\"T_cb2c5b1c_662b_11e9_8ecf_7831c1d16a42row4_col0\" class=\"data row4 col0\" >7</td>\n",
       "                        <td id=\"T_cb2c5b1c_662b_11e9_8ecf_7831c1d16a42row4_col1\" class=\"data row4 col1\" >285261</td>\n",
       "                        <td id=\"T_cb2c5b1c_662b_11e9_8ecf_7831c1d16a42row4_col2\" class=\"data row4 col2\" >10</td>\n",
       "                        <td id=\"T_cb2c5b1c_662b_11e9_8ecf_7831c1d16a42row4_col3\" class=\"data row4 col3\" >70</td>\n",
       "            </tr>\n",
       "            <tr>\n",
       "                        <th id=\"T_cb2c5b1c_662b_11e9_8ecf_7831c1d16a42level0_row5\" class=\"row_heading level0 row5\" >5</th>\n",
       "                        <td id=\"T_cb2c5b1c_662b_11e9_8ecf_7831c1d16a42row5_col0\" class=\"data row5 col0\" >2</td>\n",
       "                        <td id=\"T_cb2c5b1c_662b_11e9_8ecf_7831c1d16a42row5_col1\" class=\"data row5 col1\" >284043</td>\n",
       "                        <td id=\"T_cb2c5b1c_662b_11e9_8ecf_7831c1d16a42row5_col2\" class=\"data row5 col2\" >10</td>\n",
       "                        <td id=\"T_cb2c5b1c_662b_11e9_8ecf_7831c1d16a42row5_col3\" class=\"data row5 col3\" >70</td>\n",
       "            </tr>\n",
       "            <tr>\n",
       "                        <th id=\"T_cb2c5b1c_662b_11e9_8ecf_7831c1d16a42level0_row6\" class=\"row_heading level0 row6\" >6</th>\n",
       "                        <td id=\"T_cb2c5b1c_662b_11e9_8ecf_7831c1d16a42row6_col0\" class=\"data row6 col0\" >1</td>\n",
       "                        <td id=\"T_cb2c5b1c_662b_11e9_8ecf_7831c1d16a42row6_col1\" class=\"data row6 col1\" >239532</td>\n",
       "                        <td id=\"T_cb2c5b1c_662b_11e9_8ecf_7831c1d16a42row6_col2\" class=\"data row6 col2\" >10</td>\n",
       "                        <td id=\"T_cb2c5b1c_662b_11e9_8ecf_7831c1d16a42row6_col3\" class=\"data row6 col3\" >70</td>\n",
       "            </tr>\n",
       "    </tbody></table>"
      ],
      "text/plain": [
       "<pandas.io.formats.style.Styler at 0x11ce06630>"
      ]
     },
     "execution_count": 7,
     "metadata": {},
     "output_type": "execute_result"
    }
   ],
   "source": [
    "cas_table = data.groupby(['Day_of_Week']).agg({'Number_of_Casualties':['sum'],'Speed_limit':['min','max']})\n",
    "cas_table = cas_table.sort_values([('Number_of_Casualties','sum')],ascending=False)\n",
    "cas_table = cas_table.reset_index()\n",
    "cas_table.style.apply(max_val)"
   ]
  },
  {
   "cell_type": "code",
   "execution_count": 8,
   "metadata": {
    "pycharm": {}
   },
   "outputs": [
    {
     "data": {
      "text/plain": [
       "Accident_Severity             1.000000\n",
       "Number_of_Vehicles            0.075976\n",
       "2nd_Road_Class                0.064321\n",
       "2nd_Road_Number               0.026128\n",
       "Longitude                     0.013946\n",
       "Location_Easting_OSGR         0.013465\n",
       "1st_Road_Class                0.012754\n",
       "Day_of_Week                   0.002961\n",
       "1st_Road_Number              -0.004072\n",
       "Year                         -0.005907\n",
       "Latitude                     -0.031357\n",
       "Location_Northing_OSGR       -0.031395\n",
       "Police_Force                 -0.031712\n",
       "Local_Authority_(District)   -0.031995\n",
       "Speed_limit                  -0.079108\n",
       "Urban_or_Rural_Area          -0.082169\n",
       "Number_of_Casualties         -0.083544\n",
       "Junction_Detail                    NaN\n",
       "Name: Accident_Severity, dtype: float64"
      ]
     },
     "execution_count": 8,
     "metadata": {},
     "output_type": "execute_result"
    }
   ],
   "source": [
    "corr_matrix = data.corr()\n",
    "corr_matrix[\"Accident_Severity\"].sort_values(ascending=False)"
   ]
  },
  {
   "cell_type": "code",
   "execution_count": 9,
   "metadata": {
    "pycharm": {}
   },
   "outputs": [],
   "source": [
    "# 30/11/2007\n",
    "def convert_date_to_day_of_year(dt):\n",
    "    result = re.findall(r'(\\d{2})/(\\d{2})/(\\d{4})',dt)\n",
    "    return result[0][0]\n",
    "   \n",
    "def convert_date_to_month(dt):\n",
    "    result = re.findall(r'(\\d{2})/(\\d{2})/(\\d{4})',dt)\n",
    "    return result[0][1]"
   ]
  },
  {
   "cell_type": "code",
   "execution_count": 10,
   "metadata": {
    "pycharm": {}
   },
   "outputs": [],
   "source": [
    "data['day_of_year'] = data.Date.apply(lambda x: convert_date_to_day_of_year(x))\n",
    "data['month'] = data.Date.apply(lambda x: convert_date_to_month(x))\n"
   ]
  },
  {
   "cell_type": "code",
   "execution_count": 11,
   "metadata": {
    "pycharm": {}
   },
   "outputs": [],
   "source": [
    "# data.hist(bins=50, figsize=(20,15))\n",
    "# plt.show()"
   ]
  },
  {
   "cell_type": "code",
   "execution_count": 12,
   "metadata": {
    "pycharm": {}
   },
   "outputs": [],
   "source": [
    "# fig = data.plot(kind=\"scatter\", x=\"Longitude\", y=\"Latitude\", alpha=0.6,\n",
    "#                    figsize=(18,11),c=\"Accident_Severity\", cmap=plt.get_cmap(\"inferno\"), \n",
    "#                    colorbar=True,)"
   ]
  },
  {
   "cell_type": "code",
   "execution_count": 13,
   "metadata": {
    "pycharm": {}
   },
   "outputs": [],
   "source": [
    "# attributes = [\"Number_of_Vehicles\", \"Time\", \"Road_Type\", \"Pedestrian_Crossing-Human_Control\", \"Pedestrian_Crossing-Physical_Facilities\", \"Light_Conditions\", \"Weather_Conditions\", \"Road_Surface_Conditions\",\"Accident_Severity\"]\n",
    "# scatter_matrix(data[attributes], figsize=(10, 10))\n",
    "\n",
    "\n"
   ]
  },
  {
   "cell_type": "code",
   "execution_count": 14,
   "metadata": {
    "pycharm": {}
   },
   "outputs": [],
   "source": [
    "drop_columns = ['Date', 'Accident_Index', 'Number_of_Casualties', 'Police_Force', 'Junction_Detail', 'Junction_Control', 'Special_Conditions_at_Site', 'Carriageway_Hazards', 'Did_Police_Officer_Attend_Scene_of_Accident', 'LSOA_of_Accident_Location', 'Local_Authority_(District)', 'Local_Authority_(Highway)']"
   ]
  },
  {
   "cell_type": "code",
   "execution_count": 15,
   "metadata": {
    "pycharm": {}
   },
   "outputs": [],
   "source": [
    "data1 = data.drop(drop_columns, axis=1, inplace=False)\n",
    "data1.dropna(inplace=True)"
   ]
  },
  {
   "cell_type": "code",
   "execution_count": 16,
   "metadata": {
    "pycharm": {}
   },
   "outputs": [],
   "source": [
    "#Drop rows with 'Unknown' values\n",
    "data1 = data1[data1.Weather_Conditions!='Unknown']\n",
    "data1 = data1[data1.Road_Type!='Unknown']"
   ]
  },
  {
   "cell_type": "code",
   "execution_count": 17,
   "metadata": {
    "pycharm": {}
   },
   "outputs": [],
   "source": [
    "#Encode \"String\" Labels into \"Int\" Labels for easy training\n",
    "le = LabelEncoder()\n",
    "data1[\"Pedestrian_Crossing-Physical_Facilities\"]= le.fit_transform(data1[\"Pedestrian_Crossing-Physical_Facilities\"])\n",
    "data1[\"Light_Conditions\"]= le.fit_transform(data1[\"Light_Conditions\"])\n",
    "data1[\"Weather_Conditions\"] = le.fit_transform(data1[\"Weather_Conditions\"])\n",
    "data1[\"Road_Surface_Conditions\"] = le.fit_transform(data1[\"Road_Surface_Conditions\"])\n",
    "data1[\"Pedestrian_Crossing-Human_Control\"] = le.fit_transform(data1[\"Pedestrian_Crossing-Human_Control\"])\n",
    "data1[\"Road_Type\"] = le.fit_transform(data1[\"Road_Type\"])\n",
    "\n",
    "#Converting Time into Int for easy training\n",
    "data1[\"Time\"]= data1[\"Time\"].astype(str)\n",
    "data1['Time']= data1['Time'].str.slice(0,2, 1)\n",
    "data1[\"Time\"]= data1[\"Time\"].astype(int)"
   ]
  },
  {
   "cell_type": "code",
   "execution_count": 18,
   "metadata": {
    "pycharm": {}
   },
   "outputs": [
    {
     "name": "stdout",
     "output_type": "stream",
     "text": [
      "   Location_Easting_OSGR  Location_Northing_OSGR  Longitude   Latitude  \\\n",
      "0               525680.0                178240.0  -0.191170  51.489096   \n",
      "1               524170.0                181650.0  -0.211708  51.520075   \n",
      "2               524520.0                182240.0  -0.206458  51.525301   \n",
      "3               526900.0                177530.0  -0.173862  51.482442   \n",
      "4               528060.0                179040.0  -0.156618  51.495752   \n",
      "\n",
      "   Accident_Severity  Number_of_Vehicles  Day_of_Week  Time  1st_Road_Class  \\\n",
      "0                  2                   1            3    17               3   \n",
      "1                  3                   1            4    17               4   \n",
      "2                  3                   2            5     0               5   \n",
      "3                  3                   1            6    10               3   \n",
      "4                  3                   1            2    21               6   \n",
      "\n",
      "   1st_Road_Number  ...  2nd_Road_Number  Pedestrian_Crossing-Human_Control  \\\n",
      "0             3218  ...                0                                  2   \n",
      "1              450  ...                0                                  2   \n",
      "2                0  ...                0                                  2   \n",
      "3             3220  ...                0                                  2   \n",
      "4                0  ...                0                                  2   \n",
      "\n",
      "   Pedestrian_Crossing-Physical_Facilities  Light_Conditions  \\\n",
      "0                                        4                 4   \n",
      "1                                        3                 2   \n",
      "2                                        2                 2   \n",
      "3                                        2                 4   \n",
      "4                                        2                 1   \n",
      "\n",
      "   Weather_Conditions  Road_Surface_Conditions  Urban_or_Rural_Area  Year  \\\n",
      "0                   5                        4                    1  2005   \n",
      "1                   1                        0                    1  2005   \n",
      "2                   1                        0                    1  2005   \n",
      "3                   1                        0                    1  2005   \n",
      "4                   1                        4                    1  2005   \n",
      "\n",
      "   day_of_year  month  \n",
      "0           04     01  \n",
      "1           05     01  \n",
      "2           06     01  \n",
      "3           07     01  \n",
      "4           10     01  \n",
      "\n",
      "[5 rows x 23 columns]\n"
     ]
    }
   ],
   "source": [
    "print(data1[:5])"
   ]
  },
  {
   "cell_type": "code",
   "execution_count": 19,
   "metadata": {
    "pycharm": {}
   },
   "outputs": [
    {
     "name": "stdout",
     "output_type": "stream",
     "text": [
      "10    3\n",
      "11    3\n",
      "12    3\n",
      "13    3\n",
      "14    3\n",
      "15    3\n",
      "16    2\n",
      "17    3\n",
      "18    3\n",
      "19    2\n",
      "Name: Accident_Severity, dtype: int64\n"
     ]
    }
   ],
   "source": [
    "print(data1[\"Accident_Severity\"][10:20])\n",
    "# print(le.fit_transform(data[\"Accident_Severity\"])[100:200])"
   ]
  },
  {
   "cell_type": "code",
   "execution_count": null,
   "metadata": {
    "pycharm": {}
   },
   "outputs": [],
   "source": []
  },
  {
   "cell_type": "code",
   "execution_count": 20,
   "metadata": {
    "pycharm": {}
   },
   "outputs": [],
   "source": [
    "# def preprocessing(data):\n",
    "#     #Drop useless columns and nan values\n",
    "#     data.drop(drop_columns, axis=1, inplace=True)\n",
    "#     data.dropna(inplace=True)\n",
    "    \n",
    "#     #Drop rows with 'Unknown' values\n",
    "#     data = data[data.Weather_Conditions!='Unknown']\n",
    "#     data = data[data.Road_Type!='Unknown']\n",
    "    \n",
    "#     #Encode \"String\" Labels into \"Int\" Labels for easy training\n",
    "# le = LabelEncoder()\n",
    "# data1[\"Pedestrian_Crossing-Physical_Facilities\"]= le.fit_transform(data1[\"Pedestrian_Crossing-Physical_Facilities\"])\n",
    "# data1[\"Light_Conditions\"]= le.fit_transform(data1[\"Light_Conditions\"])\n",
    "# data1[\"Weather_Conditions\"] = le.fit_transform(data1[\"Weather_Conditions\"])\n",
    "# data1[\"Road_Surface_Conditions\"] = le.fit_transform(data1[\"Road_Surface_Conditions\"])\n",
    "# data1[\"Pedestrian_Crossing-Human_Control\"] = le.fit_transform(data1[\"Pedestrian_Crossing-Human_Control\"])\n",
    "# data1[\"Road_Type\"] = le.fit_transform(data1[\"Road_Type\"])\n",
    "    \n",
    "# #     #Converting Time into Int for easy training\n",
    "# data1[\"Time\"]= data1[\"Time\"].astype(str)\n",
    "# data1['Time']=data1['Time'].str.slice(0,2, 1)\n",
    "# data1[\"Time\"]= data1[\"Time\"].astype(int)\n",
    "    \n",
    "#     #Creating 3 additional columns, one each for each class we need to classify into\n",
    "# #     onehot = pd.get_dummies(data.Accident_Severity,prefix=['Severity'])\n",
    "    \n",
    "# #     data[\"Fatal\"] = onehot[\"['Severity']_1\"]\n",
    "# #     data[\"Severe\"] = onehot[\"['Severity']_2\"]\n",
    "# #     data[\"Slight\"] = onehot[\"['Severity']_3\"]\n",
    "    \n",
    "#     #Finally splitting the data into train and test\n",
    "#     train,test = train_test_split(data,test_size=.25)\n",
    "    \n",
    "#     return (train,test)"
   ]
  },
  {
   "cell_type": "code",
   "execution_count": 21,
   "metadata": {
    "pycharm": {}
   },
   "outputs": [],
   "source": [
    "# train,test = preprocessing(data1)\n",
    "train,test = train_test_split(data1,test_size=.25)"
   ]
  },
  {
   "cell_type": "code",
   "execution_count": 22,
   "metadata": {
    "pycharm": {}
   },
   "outputs": [],
   "source": [
    "train_features = train[[\"Longitude\", \"Latitude\", \"Number_of_Vehicles\", \"Day_of_Week\", \"Time\", \"Road_Type\", \"Speed_limit\", \"Pedestrian_Crossing-Human_Control\", \"Pedestrian_Crossing-Physical_Facilities\", \"Light_Conditions\", \"Weather_Conditions\", \"Road_Surface_Conditions\",\"Year\", \"day_of_year\", \"month\", \"Urban_or_Rural_Area\"]]\n",
    "test_features =test[[\"Longitude\", \"Latitude\", \"Number_of_Vehicles\", \"Day_of_Week\", \"Time\", \"Road_Type\", \"Speed_limit\", \"Pedestrian_Crossing-Human_Control\", \"Pedestrian_Crossing-Physical_Facilities\", \"Light_Conditions\", \"Weather_Conditions\", \"Road_Surface_Conditions\",\"Year\", \"day_of_year\", \"month\", \"Urban_or_Rural_Area\"]]"
   ]
  },
  {
   "cell_type": "code",
   "execution_count": 23,
   "metadata": {
    "pycharm": {}
   },
   "outputs": [],
   "source": [
    "predicted_classes = []"
   ]
  },
  {
   "cell_type": "code",
   "execution_count": 24,
   "metadata": {
    "pycharm": {}
   },
   "outputs": [
    {
     "name": "stdout",
     "output_type": "stream",
     "text": [
      "(1100994, 23)\n"
     ]
    },
    {
     "data": {
      "text/html": [
       "<div>\n",
       "<style scoped>\n",
       "    .dataframe tbody tr th:only-of-type {\n",
       "        vertical-align: middle;\n",
       "    }\n",
       "\n",
       "    .dataframe tbody tr th {\n",
       "        vertical-align: top;\n",
       "    }\n",
       "\n",
       "    .dataframe thead th {\n",
       "        text-align: right;\n",
       "    }\n",
       "</style>\n",
       "<table border=\"1\" class=\"dataframe\">\n",
       "  <thead>\n",
       "    <tr style=\"text-align: right;\">\n",
       "      <th></th>\n",
       "      <th>Location_Easting_OSGR</th>\n",
       "      <th>Location_Northing_OSGR</th>\n",
       "      <th>Longitude</th>\n",
       "      <th>Latitude</th>\n",
       "      <th>Accident_Severity</th>\n",
       "      <th>Number_of_Vehicles</th>\n",
       "      <th>Day_of_Week</th>\n",
       "      <th>Time</th>\n",
       "      <th>1st_Road_Class</th>\n",
       "      <th>1st_Road_Number</th>\n",
       "      <th>...</th>\n",
       "      <th>2nd_Road_Number</th>\n",
       "      <th>Pedestrian_Crossing-Human_Control</th>\n",
       "      <th>Pedestrian_Crossing-Physical_Facilities</th>\n",
       "      <th>Light_Conditions</th>\n",
       "      <th>Weather_Conditions</th>\n",
       "      <th>Road_Surface_Conditions</th>\n",
       "      <th>Urban_or_Rural_Area</th>\n",
       "      <th>Year</th>\n",
       "      <th>day_of_year</th>\n",
       "      <th>month</th>\n",
       "    </tr>\n",
       "  </thead>\n",
       "  <tbody>\n",
       "  </tbody>\n",
       "</table>\n",
       "<p>0 rows × 23 columns</p>\n",
       "</div>"
      ],
      "text/plain": [
       "Empty DataFrame\n",
       "Columns: [Location_Easting_OSGR, Location_Northing_OSGR, Longitude, Latitude, Accident_Severity, Number_of_Vehicles, Day_of_Week, Time, 1st_Road_Class, 1st_Road_Number, Road_Type, Speed_limit, 2nd_Road_Class, 2nd_Road_Number, Pedestrian_Crossing-Human_Control, Pedestrian_Crossing-Physical_Facilities, Light_Conditions, Weather_Conditions, Road_Surface_Conditions, Urban_or_Rural_Area, Year, day_of_year, month]\n",
       "Index: []\n",
       "\n",
       "[0 rows x 23 columns]"
      ]
     },
     "execution_count": 24,
     "metadata": {},
     "output_type": "execute_result"
    }
   ],
   "source": [
    "print(train.shape)\n",
    "train.head(0)"
   ]
  },
  {
   "cell_type": "code",
   "execution_count": 25,
   "metadata": {
    "pycharm": {}
   },
   "outputs": [],
   "source": [
    "y_train = train['Accident_Severity']\n",
    "# x_train = train.loc[:, train.columns != 'Accident_Severity']\n",
    "x_train = train_features\n"
   ]
  },
  {
   "cell_type": "code",
   "execution_count": 26,
   "metadata": {
    "pycharm": {}
   },
   "outputs": [],
   "source": [
    "y_test = test['Accident_Severity'] \n",
    "# x_test = test.loc[:, train.columns != 'Accident_Severity']\n",
    "x_test = test_features"
   ]
  },
  {
   "cell_type": "code",
   "execution_count": 27,
   "metadata": {
    "pycharm": {}
   },
   "outputs": [
    {
     "name": "stdout",
     "output_type": "stream",
     "text": [
      "Empty DataFrame\n",
      "Columns: [Location_Easting_OSGR, Location_Northing_OSGR, Longitude, Latitude, Number_of_Vehicles, Day_of_Week, Time, 1st_Road_Class, 1st_Road_Number, Road_Type, Speed_limit, 2nd_Road_Class, 2nd_Road_Number, Pedestrian_Crossing-Human_Control, Pedestrian_Crossing-Physical_Facilities, Light_Conditions, Weather_Conditions, Road_Surface_Conditions, Urban_or_Rural_Area, Year, day_of_year, month]\n",
      "Index: []\n",
      "\n",
      "[0 rows x 22 columns]\n"
     ]
    }
   ],
   "source": [
    "print(test.loc[:, train.columns != 'Accident_Severity'].head(0))"
   ]
  },
  {
   "cell_type": "code",
   "execution_count": 28,
   "metadata": {
    "pycharm": {}
   },
   "outputs": [
    {
     "name": "stdout",
     "output_type": "stream",
     "text": [
      "x_train:  (1100994, 16)\n",
      "x_test:  (366998, 16)\n",
      "y_train:  (1100994,)\n",
      "y_test:  (366998,)\n"
     ]
    },
    {
     "data": {
      "text/html": [
       "<div>\n",
       "<style scoped>\n",
       "    .dataframe tbody tr th:only-of-type {\n",
       "        vertical-align: middle;\n",
       "    }\n",
       "\n",
       "    .dataframe tbody tr th {\n",
       "        vertical-align: top;\n",
       "    }\n",
       "\n",
       "    .dataframe thead th {\n",
       "        text-align: right;\n",
       "    }\n",
       "</style>\n",
       "<table border=\"1\" class=\"dataframe\">\n",
       "  <thead>\n",
       "    <tr style=\"text-align: right;\">\n",
       "      <th></th>\n",
       "      <th>Longitude</th>\n",
       "      <th>Latitude</th>\n",
       "      <th>Number_of_Vehicles</th>\n",
       "      <th>Day_of_Week</th>\n",
       "      <th>Time</th>\n",
       "      <th>Road_Type</th>\n",
       "      <th>Speed_limit</th>\n",
       "      <th>Pedestrian_Crossing-Human_Control</th>\n",
       "      <th>Pedestrian_Crossing-Physical_Facilities</th>\n",
       "      <th>Light_Conditions</th>\n",
       "      <th>Weather_Conditions</th>\n",
       "      <th>Road_Surface_Conditions</th>\n",
       "      <th>Year</th>\n",
       "      <th>day_of_year</th>\n",
       "      <th>month</th>\n",
       "      <th>Urban_or_Rural_Area</th>\n",
       "    </tr>\n",
       "  </thead>\n",
       "  <tbody>\n",
       "  </tbody>\n",
       "</table>\n",
       "</div>"
      ],
      "text/plain": [
       "Empty DataFrame\n",
       "Columns: [Longitude, Latitude, Number_of_Vehicles, Day_of_Week, Time, Road_Type, Speed_limit, Pedestrian_Crossing-Human_Control, Pedestrian_Crossing-Physical_Facilities, Light_Conditions, Weather_Conditions, Road_Surface_Conditions, Year, day_of_year, month, Urban_or_Rural_Area]\n",
       "Index: []"
      ]
     },
     "execution_count": 28,
     "metadata": {},
     "output_type": "execute_result"
    }
   ],
   "source": [
    "print(\"x_train: \", x_train.shape)\n",
    "print(\"x_test: \", x_test.shape)\n",
    "print(\"y_train: \", y_train.shape)\n",
    "print(\"y_test: \", y_test.shape)\n",
    "x_train.head(0)"
   ]
  },
  {
   "cell_type": "code",
   "execution_count": 29,
   "metadata": {
    "pycharm": {}
   },
   "outputs": [
    {
     "name": "stdout",
     "output_type": "stream",
     "text": [
      "127827    3\n",
      "418014    3\n",
      "15627     3\n",
      "318900    3\n",
      "344358    2\n",
      "180955    2\n",
      "443208    3\n",
      "11018     3\n",
      "549829    3\n",
      "Name: Accident_Severity, dtype: int64 212529    2\n",
      "99562     3\n",
      "50878     2\n",
      "253115    3\n",
      "225893    3\n",
      "90599     3\n",
      "339703    3\n",
      "519837    3\n",
      "115786    3\n",
      "Name: Accident_Severity, dtype: int64\n"
     ]
    }
   ],
   "source": [
    "print(y_test[1:10], y_train[1:10])"
   ]
  },
  {
   "cell_type": "code",
   "execution_count": 30,
   "metadata": {
    "pycharm": {}
   },
   "outputs": [],
   "source": [
    "from imblearn.over_sampling import RandomOverSampler\n",
    "from imblearn.over_sampling import SMOTE, ADASYN"
   ]
  },
  {
   "cell_type": "code",
   "execution_count": 31,
   "metadata": {},
   "outputs": [],
   "source": [
    "ros = RandomOverSampler(random_state=0)\n",
    "x_resampled, y_resampled = ros.fit_resample(x_train, y_train)\n",
    "# x_resampled, y_resampled = SMOTE().fit_resample(x_train, y_train)\n"
   ]
  },
  {
   "cell_type": "code",
   "execution_count": 32,
   "metadata": {},
   "outputs": [
    {
     "name": "stdout",
     "output_type": "stream",
     "text": [
      "(2807646, 16) (2807646,)\n"
     ]
    }
   ],
   "source": [
    "print(x_resampled.shape, y_resampled.shape)"
   ]
  },
  {
   "cell_type": "code",
   "execution_count": 33,
   "metadata": {
    "pycharm": {}
   },
   "outputs": [],
   "source": [
    "def classify(clf, X_train, Y_train, X_test):\n",
    "    print('_' * 80)\n",
    "    print(\"Training: \")\n",
    "    print(clf)\n",
    "#     t0 = time()\n",
    "    clf.fit(X_train, Y_train)\n",
    "#     train_time = time() - t0\n",
    "#     print(\"train time: %0.3fs\" % train_time)\n",
    "    \n",
    "#     t0 = time()\n",
    "    pred = clf.predict(X_test)\n",
    "#     test_time = time() - t0\n",
    "#     print(\"test time:  %0.3fs\" % test_time)\n",
    "    print(type(pred))\n",
    "    return pred"
   ]
  },
  {
   "cell_type": "code",
   "execution_count": 34,
   "metadata": {
    "pycharm": {}
   },
   "outputs": [],
   "source": [
    "from sklearn.neighbors import KNeighborsClassifier\n",
    "from sklearn.ensemble import RandomForestClassifier\n",
    "from sklearn.ensemble import GradientBoostingClassifier\n",
    "\n",
    "from sklearn.metrics import f1_score, recall_score, precision_score, accuracy_score"
   ]
  },
  {
   "cell_type": "code",
   "execution_count": 35,
   "metadata": {},
   "outputs": [],
   "source": [
    "def print_score(y_test, pred, average=\"macro\"):\n",
    "    print(\"Accuracy Score: {}\".format(accuracy_score(y_test, pred)))\n",
    "    print(\"Precision Score: {}\".format(precision_score(y_test, pred, average=average)))\n",
    "    print(\"Recall Score: {}\".format(recall_score(y_test, pred, average=average)))\n",
    "    print(\"F1 Score: {}\".format(f1_score(y_test, pred, average=average)))\n",
    "    "
   ]
  },
  {
   "cell_type": "code",
   "execution_count": 48,
   "metadata": {
    "pycharm": {},
    "scrolled": true
   },
   "outputs": [
    {
     "name": "stdout",
     "output_type": "stream",
     "text": [
      "________________________________________________________________________________\n",
      "Training: \n",
      "RandomForestClassifier(bootstrap=True, class_weight=None, criterion='gini',\n",
      "            max_depth=None, max_features='auto', max_leaf_nodes=None,\n",
      "            min_impurity_decrease=0.0, min_impurity_split=None,\n",
      "            min_samples_leaf=1, min_samples_split=2,\n",
      "            min_weight_fraction_leaf=0.0, n_estimators='warn', n_jobs=None,\n",
      "            oob_score=False, random_state=None, verbose=0,\n",
      "            warm_start=False)\n",
      "<class 'numpy.ndarray'>\n",
      "Accuracy Score: 0.8144921770690848\n",
      "Precision Score: 0.4697043143079214\n",
      "Recall Score: 0.3733066884543182\n",
      "F1 Score: 0.3839710714477565\n"
     ]
    }
   ],
   "source": [
    "# pred = classify(RandomForestClassifier(), x_train, y_train, x_test)\n",
    "pred = classify(RandomForestClassifier(), x_resampled, y_resampled, x_test)\n",
    "print_score(y_test, pred)"
   ]
  },
  {
   "cell_type": "code",
   "execution_count": null,
   "metadata": {
    "pycharm": {}
   },
   "outputs": [
    {
     "name": "stdout",
     "output_type": "stream",
     "text": [
      "________________________________________________________________________________\n",
      "Training: \n",
      "GradientBoostingClassifier(criterion='friedman_mse', init=None,\n",
      "              learning_rate=0.1, loss='deviance', max_depth=3,\n",
      "              max_features=None, max_leaf_nodes=None,\n",
      "              min_impurity_decrease=0.0, min_impurity_split=None,\n",
      "              min_samples_leaf=1, min_samples_split=2,\n",
      "              min_weight_fraction_leaf=0.0, n_estimators=100,\n",
      "              n_iter_no_change=None, presort='auto', random_state=None,\n",
      "              subsample=1.0, tol=0.0001, validation_fraction=0.1,\n",
      "              verbose=0, warm_start=False)\n"
     ]
    }
   ],
   "source": [
    "pred2 = classify(GradientBoostingClassifier(n_estimators=100), x_train, y_train, x_test)\n",
    "# pred2 = classify(GradientBoostingClassifier(n_estimators=100), x_resampled, y_resampled, x_test)\n",
    "print_score(y_test, pred2)"
   ]
  },
  {
   "cell_type": "code",
   "execution_count": 47,
   "metadata": {},
   "outputs": [
    {
     "name": "stdout",
     "output_type": "stream",
     "text": [
      "Accuracy Score: 0.8496585812456744\n",
      "Precision Score: 0.7276652418780083\n",
      "Recall Score: 0.33340725685163214\n",
      "F1 Score: 0.30639166558277237\n"
     ]
    }
   ],
   "source": [
    "print_score(y_test, pred2)"
   ]
  },
  {
   "cell_type": "code",
   "execution_count": 47,
   "metadata": {
    "pycharm": {}
   },
   "outputs": [
    {
     "name": "stdout",
     "output_type": "stream",
     "text": [
      "Accuracy Score: 0.8381081095809786\n",
      "Precision Score: 0.5477209102513553\n",
      "Recall Score: 0.3646011905460511\n",
      "F1 Score: 0.37076327352975985\n"
     ]
    }
   ],
   "source": [
    "print_score(y_test, pred)"
   ]
  },
  {
   "cell_type": "code",
   "execution_count": null,
   "metadata": {
    "pycharm": {}
   },
   "outputs": [],
   "source": [
    "f1_score(y_test, pred1, average='macro')"
   ]
  },
  {
   "cell_type": "code",
   "execution_count": 36,
   "metadata": {
    "pycharm": {}
   },
   "outputs": [],
   "source": [
    "def model(x_train, y_train, x_test):\n",
    "    classifier = EasyEnsembleClassifier(n_estimators=12, base_estimator=XGBClassifier(max_depth=4, learning_rate=0.2, n_estimators=600, silent=True,\n",
    "                        subsample = 0.8,\n",
    "                        gamma=0.5,\n",
    "                        min_child_weight=10,\n",
    "#                         objective='binary:logistic',\n",
    "                        colsample_bytree = 0.6,\n",
    "                        max_delta_step = 1,\n",
    "                        nthreads=1,\n",
    "                        n_jobs=1))\n",
    "    \n",
    "\n",
    "    cv_score = np.mean(cross_val_score(\n",
    "        classifier, x_train, y_train, cv=3, scoring='roc_auc'))\n",
    "    print('CV score: {}'.format(cv_score))\n",
    "\n",
    "    classifier.fit(x_train, y_train)\n",
    "    pred = classifier.predict(x_test)\n",
    "    acc = roc_auc_score(x_test, y_test)\n",
    "    print('acc score : {}'.format(acc))\n",
    "    return pred\n",
    "    "
   ]
  },
  {
   "cell_type": "code",
   "execution_count": 37,
   "metadata": {
    "pycharm": {}
   },
   "outputs": [
    {
     "ename": "ValueError",
     "evalue": "multiclass format is not supported",
     "output_type": "error",
     "traceback": [
      "\u001b[0;31m---------------------------------------------------------------------------\u001b[0m",
      "\u001b[0;31mValueError\u001b[0m                                Traceback (most recent call last)",
      "\u001b[0;32m<ipython-input-37-9fb5aea8e5a6>\u001b[0m in \u001b[0;36m<module>\u001b[0;34m\u001b[0m\n\u001b[1;32m      1\u001b[0m \u001b[0;31m# pred = model(x_resampled, y_resampled, x_test)\u001b[0m\u001b[0;34m\u001b[0m\u001b[0;34m\u001b[0m\u001b[0;34m\u001b[0m\u001b[0m\n\u001b[0;32m----> 2\u001b[0;31m \u001b[0mpred\u001b[0m \u001b[0;34m=\u001b[0m \u001b[0mmodel\u001b[0m\u001b[0;34m(\u001b[0m\u001b[0mx_test\u001b[0m\u001b[0;34m,\u001b[0m \u001b[0my_test\u001b[0m\u001b[0;34m,\u001b[0m \u001b[0mx_test\u001b[0m\u001b[0;34m)\u001b[0m\u001b[0;34m\u001b[0m\u001b[0;34m\u001b[0m\u001b[0m\n\u001b[0m",
      "\u001b[0;32m<ipython-input-36-dc4e07c44e8d>\u001b[0m in \u001b[0;36mmodel\u001b[0;34m(x_train, y_train, x_test)\u001b[0m\n\u001b[1;32m     12\u001b[0m \u001b[0;34m\u001b[0m\u001b[0m\n\u001b[1;32m     13\u001b[0m     cv_score = np.mean(cross_val_score(\n\u001b[0;32m---> 14\u001b[0;31m         classifier, x_train, y_train, cv=3, scoring='roc_auc'))\n\u001b[0m\u001b[1;32m     15\u001b[0m     \u001b[0mprint\u001b[0m\u001b[0;34m(\u001b[0m\u001b[0;34m'CV score: {}'\u001b[0m\u001b[0;34m.\u001b[0m\u001b[0mformat\u001b[0m\u001b[0;34m(\u001b[0m\u001b[0mcv_score\u001b[0m\u001b[0;34m)\u001b[0m\u001b[0;34m)\u001b[0m\u001b[0;34m\u001b[0m\u001b[0;34m\u001b[0m\u001b[0m\n\u001b[1;32m     16\u001b[0m \u001b[0;34m\u001b[0m\u001b[0m\n",
      "\u001b[0;32m~/venv3/lib/python3.7/site-packages/sklearn/model_selection/_validation.py\u001b[0m in \u001b[0;36mcross_val_score\u001b[0;34m(estimator, X, y, groups, scoring, cv, n_jobs, verbose, fit_params, pre_dispatch, error_score)\u001b[0m\n\u001b[1;32m    400\u001b[0m                                 \u001b[0mfit_params\u001b[0m\u001b[0;34m=\u001b[0m\u001b[0mfit_params\u001b[0m\u001b[0;34m,\u001b[0m\u001b[0;34m\u001b[0m\u001b[0;34m\u001b[0m\u001b[0m\n\u001b[1;32m    401\u001b[0m                                 \u001b[0mpre_dispatch\u001b[0m\u001b[0;34m=\u001b[0m\u001b[0mpre_dispatch\u001b[0m\u001b[0;34m,\u001b[0m\u001b[0;34m\u001b[0m\u001b[0;34m\u001b[0m\u001b[0m\n\u001b[0;32m--> 402\u001b[0;31m                                 error_score=error_score)\n\u001b[0m\u001b[1;32m    403\u001b[0m     \u001b[0;32mreturn\u001b[0m \u001b[0mcv_results\u001b[0m\u001b[0;34m[\u001b[0m\u001b[0;34m'test_score'\u001b[0m\u001b[0;34m]\u001b[0m\u001b[0;34m\u001b[0m\u001b[0;34m\u001b[0m\u001b[0m\n\u001b[1;32m    404\u001b[0m \u001b[0;34m\u001b[0m\u001b[0m\n",
      "\u001b[0;32m~/venv3/lib/python3.7/site-packages/sklearn/model_selection/_validation.py\u001b[0m in \u001b[0;36mcross_validate\u001b[0;34m(estimator, X, y, groups, scoring, cv, n_jobs, verbose, fit_params, pre_dispatch, return_train_score, return_estimator, error_score)\u001b[0m\n\u001b[1;32m    238\u001b[0m             \u001b[0mreturn_times\u001b[0m\u001b[0;34m=\u001b[0m\u001b[0;32mTrue\u001b[0m\u001b[0;34m,\u001b[0m \u001b[0mreturn_estimator\u001b[0m\u001b[0;34m=\u001b[0m\u001b[0mreturn_estimator\u001b[0m\u001b[0;34m,\u001b[0m\u001b[0;34m\u001b[0m\u001b[0;34m\u001b[0m\u001b[0m\n\u001b[1;32m    239\u001b[0m             error_score=error_score)\n\u001b[0;32m--> 240\u001b[0;31m         for train, test in cv.split(X, y, groups))\n\u001b[0m\u001b[1;32m    241\u001b[0m \u001b[0;34m\u001b[0m\u001b[0m\n\u001b[1;32m    242\u001b[0m     \u001b[0mzipped_scores\u001b[0m \u001b[0;34m=\u001b[0m \u001b[0mlist\u001b[0m\u001b[0;34m(\u001b[0m\u001b[0mzip\u001b[0m\u001b[0;34m(\u001b[0m\u001b[0;34m*\u001b[0m\u001b[0mscores\u001b[0m\u001b[0;34m)\u001b[0m\u001b[0;34m)\u001b[0m\u001b[0;34m\u001b[0m\u001b[0;34m\u001b[0m\u001b[0m\n",
      "\u001b[0;32m~/venv3/lib/python3.7/site-packages/sklearn/externals/joblib/parallel.py\u001b[0m in \u001b[0;36m__call__\u001b[0;34m(self, iterable)\u001b[0m\n\u001b[1;32m    915\u001b[0m             \u001b[0;31m# remaining jobs.\u001b[0m\u001b[0;34m\u001b[0m\u001b[0;34m\u001b[0m\u001b[0;34m\u001b[0m\u001b[0m\n\u001b[1;32m    916\u001b[0m             \u001b[0mself\u001b[0m\u001b[0;34m.\u001b[0m\u001b[0m_iterating\u001b[0m \u001b[0;34m=\u001b[0m \u001b[0;32mFalse\u001b[0m\u001b[0;34m\u001b[0m\u001b[0;34m\u001b[0m\u001b[0m\n\u001b[0;32m--> 917\u001b[0;31m             \u001b[0;32mif\u001b[0m \u001b[0mself\u001b[0m\u001b[0;34m.\u001b[0m\u001b[0mdispatch_one_batch\u001b[0m\u001b[0;34m(\u001b[0m\u001b[0miterator\u001b[0m\u001b[0;34m)\u001b[0m\u001b[0;34m:\u001b[0m\u001b[0;34m\u001b[0m\u001b[0;34m\u001b[0m\u001b[0m\n\u001b[0m\u001b[1;32m    918\u001b[0m                 \u001b[0mself\u001b[0m\u001b[0;34m.\u001b[0m\u001b[0m_iterating\u001b[0m \u001b[0;34m=\u001b[0m \u001b[0mself\u001b[0m\u001b[0;34m.\u001b[0m\u001b[0m_original_iterator\u001b[0m \u001b[0;32mis\u001b[0m \u001b[0;32mnot\u001b[0m \u001b[0;32mNone\u001b[0m\u001b[0;34m\u001b[0m\u001b[0;34m\u001b[0m\u001b[0m\n\u001b[1;32m    919\u001b[0m \u001b[0;34m\u001b[0m\u001b[0m\n",
      "\u001b[0;32m~/venv3/lib/python3.7/site-packages/sklearn/externals/joblib/parallel.py\u001b[0m in \u001b[0;36mdispatch_one_batch\u001b[0;34m(self, iterator)\u001b[0m\n\u001b[1;32m    757\u001b[0m                 \u001b[0;32mreturn\u001b[0m \u001b[0;32mFalse\u001b[0m\u001b[0;34m\u001b[0m\u001b[0;34m\u001b[0m\u001b[0m\n\u001b[1;32m    758\u001b[0m             \u001b[0;32melse\u001b[0m\u001b[0;34m:\u001b[0m\u001b[0;34m\u001b[0m\u001b[0;34m\u001b[0m\u001b[0m\n\u001b[0;32m--> 759\u001b[0;31m                 \u001b[0mself\u001b[0m\u001b[0;34m.\u001b[0m\u001b[0m_dispatch\u001b[0m\u001b[0;34m(\u001b[0m\u001b[0mtasks\u001b[0m\u001b[0;34m)\u001b[0m\u001b[0;34m\u001b[0m\u001b[0;34m\u001b[0m\u001b[0m\n\u001b[0m\u001b[1;32m    760\u001b[0m                 \u001b[0;32mreturn\u001b[0m \u001b[0;32mTrue\u001b[0m\u001b[0;34m\u001b[0m\u001b[0;34m\u001b[0m\u001b[0m\n\u001b[1;32m    761\u001b[0m \u001b[0;34m\u001b[0m\u001b[0m\n",
      "\u001b[0;32m~/venv3/lib/python3.7/site-packages/sklearn/externals/joblib/parallel.py\u001b[0m in \u001b[0;36m_dispatch\u001b[0;34m(self, batch)\u001b[0m\n\u001b[1;32m    714\u001b[0m         \u001b[0;32mwith\u001b[0m \u001b[0mself\u001b[0m\u001b[0;34m.\u001b[0m\u001b[0m_lock\u001b[0m\u001b[0;34m:\u001b[0m\u001b[0;34m\u001b[0m\u001b[0;34m\u001b[0m\u001b[0m\n\u001b[1;32m    715\u001b[0m             \u001b[0mjob_idx\u001b[0m \u001b[0;34m=\u001b[0m \u001b[0mlen\u001b[0m\u001b[0;34m(\u001b[0m\u001b[0mself\u001b[0m\u001b[0;34m.\u001b[0m\u001b[0m_jobs\u001b[0m\u001b[0;34m)\u001b[0m\u001b[0;34m\u001b[0m\u001b[0;34m\u001b[0m\u001b[0m\n\u001b[0;32m--> 716\u001b[0;31m             \u001b[0mjob\u001b[0m \u001b[0;34m=\u001b[0m \u001b[0mself\u001b[0m\u001b[0;34m.\u001b[0m\u001b[0m_backend\u001b[0m\u001b[0;34m.\u001b[0m\u001b[0mapply_async\u001b[0m\u001b[0;34m(\u001b[0m\u001b[0mbatch\u001b[0m\u001b[0;34m,\u001b[0m \u001b[0mcallback\u001b[0m\u001b[0;34m=\u001b[0m\u001b[0mcb\u001b[0m\u001b[0;34m)\u001b[0m\u001b[0;34m\u001b[0m\u001b[0;34m\u001b[0m\u001b[0m\n\u001b[0m\u001b[1;32m    717\u001b[0m             \u001b[0;31m# A job can complete so quickly than its callback is\u001b[0m\u001b[0;34m\u001b[0m\u001b[0;34m\u001b[0m\u001b[0;34m\u001b[0m\u001b[0m\n\u001b[1;32m    718\u001b[0m             \u001b[0;31m# called before we get here, causing self._jobs to\u001b[0m\u001b[0;34m\u001b[0m\u001b[0;34m\u001b[0m\u001b[0;34m\u001b[0m\u001b[0m\n",
      "\u001b[0;32m~/venv3/lib/python3.7/site-packages/sklearn/externals/joblib/_parallel_backends.py\u001b[0m in \u001b[0;36mapply_async\u001b[0;34m(self, func, callback)\u001b[0m\n\u001b[1;32m    180\u001b[0m     \u001b[0;32mdef\u001b[0m \u001b[0mapply_async\u001b[0m\u001b[0;34m(\u001b[0m\u001b[0mself\u001b[0m\u001b[0;34m,\u001b[0m \u001b[0mfunc\u001b[0m\u001b[0;34m,\u001b[0m \u001b[0mcallback\u001b[0m\u001b[0;34m=\u001b[0m\u001b[0;32mNone\u001b[0m\u001b[0;34m)\u001b[0m\u001b[0;34m:\u001b[0m\u001b[0;34m\u001b[0m\u001b[0;34m\u001b[0m\u001b[0m\n\u001b[1;32m    181\u001b[0m         \u001b[0;34m\"\"\"Schedule a func to be run\"\"\"\u001b[0m\u001b[0;34m\u001b[0m\u001b[0;34m\u001b[0m\u001b[0m\n\u001b[0;32m--> 182\u001b[0;31m         \u001b[0mresult\u001b[0m \u001b[0;34m=\u001b[0m \u001b[0mImmediateResult\u001b[0m\u001b[0;34m(\u001b[0m\u001b[0mfunc\u001b[0m\u001b[0;34m)\u001b[0m\u001b[0;34m\u001b[0m\u001b[0;34m\u001b[0m\u001b[0m\n\u001b[0m\u001b[1;32m    183\u001b[0m         \u001b[0;32mif\u001b[0m \u001b[0mcallback\u001b[0m\u001b[0;34m:\u001b[0m\u001b[0;34m\u001b[0m\u001b[0;34m\u001b[0m\u001b[0m\n\u001b[1;32m    184\u001b[0m             \u001b[0mcallback\u001b[0m\u001b[0;34m(\u001b[0m\u001b[0mresult\u001b[0m\u001b[0;34m)\u001b[0m\u001b[0;34m\u001b[0m\u001b[0;34m\u001b[0m\u001b[0m\n",
      "\u001b[0;32m~/venv3/lib/python3.7/site-packages/sklearn/externals/joblib/_parallel_backends.py\u001b[0m in \u001b[0;36m__init__\u001b[0;34m(self, batch)\u001b[0m\n\u001b[1;32m    547\u001b[0m         \u001b[0;31m# Don't delay the application, to avoid keeping the input\u001b[0m\u001b[0;34m\u001b[0m\u001b[0;34m\u001b[0m\u001b[0;34m\u001b[0m\u001b[0m\n\u001b[1;32m    548\u001b[0m         \u001b[0;31m# arguments in memory\u001b[0m\u001b[0;34m\u001b[0m\u001b[0;34m\u001b[0m\u001b[0;34m\u001b[0m\u001b[0m\n\u001b[0;32m--> 549\u001b[0;31m         \u001b[0mself\u001b[0m\u001b[0;34m.\u001b[0m\u001b[0mresults\u001b[0m \u001b[0;34m=\u001b[0m \u001b[0mbatch\u001b[0m\u001b[0;34m(\u001b[0m\u001b[0;34m)\u001b[0m\u001b[0;34m\u001b[0m\u001b[0;34m\u001b[0m\u001b[0m\n\u001b[0m\u001b[1;32m    550\u001b[0m \u001b[0;34m\u001b[0m\u001b[0m\n\u001b[1;32m    551\u001b[0m     \u001b[0;32mdef\u001b[0m \u001b[0mget\u001b[0m\u001b[0;34m(\u001b[0m\u001b[0mself\u001b[0m\u001b[0;34m)\u001b[0m\u001b[0;34m:\u001b[0m\u001b[0;34m\u001b[0m\u001b[0;34m\u001b[0m\u001b[0m\n",
      "\u001b[0;32m~/venv3/lib/python3.7/site-packages/sklearn/externals/joblib/parallel.py\u001b[0m in \u001b[0;36m__call__\u001b[0;34m(self)\u001b[0m\n\u001b[1;32m    223\u001b[0m         \u001b[0;32mwith\u001b[0m \u001b[0mparallel_backend\u001b[0m\u001b[0;34m(\u001b[0m\u001b[0mself\u001b[0m\u001b[0;34m.\u001b[0m\u001b[0m_backend\u001b[0m\u001b[0;34m,\u001b[0m \u001b[0mn_jobs\u001b[0m\u001b[0;34m=\u001b[0m\u001b[0mself\u001b[0m\u001b[0;34m.\u001b[0m\u001b[0m_n_jobs\u001b[0m\u001b[0;34m)\u001b[0m\u001b[0;34m:\u001b[0m\u001b[0;34m\u001b[0m\u001b[0;34m\u001b[0m\u001b[0m\n\u001b[1;32m    224\u001b[0m             return [func(*args, **kwargs)\n\u001b[0;32m--> 225\u001b[0;31m                     for func, args, kwargs in self.items]\n\u001b[0m\u001b[1;32m    226\u001b[0m \u001b[0;34m\u001b[0m\u001b[0m\n\u001b[1;32m    227\u001b[0m     \u001b[0;32mdef\u001b[0m \u001b[0m__len__\u001b[0m\u001b[0;34m(\u001b[0m\u001b[0mself\u001b[0m\u001b[0;34m)\u001b[0m\u001b[0;34m:\u001b[0m\u001b[0;34m\u001b[0m\u001b[0;34m\u001b[0m\u001b[0m\n",
      "\u001b[0;32m~/venv3/lib/python3.7/site-packages/sklearn/externals/joblib/parallel.py\u001b[0m in \u001b[0;36m<listcomp>\u001b[0;34m(.0)\u001b[0m\n\u001b[1;32m    223\u001b[0m         \u001b[0;32mwith\u001b[0m \u001b[0mparallel_backend\u001b[0m\u001b[0;34m(\u001b[0m\u001b[0mself\u001b[0m\u001b[0;34m.\u001b[0m\u001b[0m_backend\u001b[0m\u001b[0;34m,\u001b[0m \u001b[0mn_jobs\u001b[0m\u001b[0;34m=\u001b[0m\u001b[0mself\u001b[0m\u001b[0;34m.\u001b[0m\u001b[0m_n_jobs\u001b[0m\u001b[0;34m)\u001b[0m\u001b[0;34m:\u001b[0m\u001b[0;34m\u001b[0m\u001b[0;34m\u001b[0m\u001b[0m\n\u001b[1;32m    224\u001b[0m             return [func(*args, **kwargs)\n\u001b[0;32m--> 225\u001b[0;31m                     for func, args, kwargs in self.items]\n\u001b[0m\u001b[1;32m    226\u001b[0m \u001b[0;34m\u001b[0m\u001b[0m\n\u001b[1;32m    227\u001b[0m     \u001b[0;32mdef\u001b[0m \u001b[0m__len__\u001b[0m\u001b[0;34m(\u001b[0m\u001b[0mself\u001b[0m\u001b[0;34m)\u001b[0m\u001b[0;34m:\u001b[0m\u001b[0;34m\u001b[0m\u001b[0;34m\u001b[0m\u001b[0m\n",
      "\u001b[0;32m~/venv3/lib/python3.7/site-packages/sklearn/model_selection/_validation.py\u001b[0m in \u001b[0;36m_fit_and_score\u001b[0;34m(estimator, X, y, scorer, train, test, verbose, parameters, fit_params, return_train_score, return_parameters, return_n_test_samples, return_times, return_estimator, error_score)\u001b[0m\n\u001b[1;32m    566\u001b[0m         \u001b[0mfit_time\u001b[0m \u001b[0;34m=\u001b[0m \u001b[0mtime\u001b[0m\u001b[0;34m.\u001b[0m\u001b[0mtime\u001b[0m\u001b[0;34m(\u001b[0m\u001b[0;34m)\u001b[0m \u001b[0;34m-\u001b[0m \u001b[0mstart_time\u001b[0m\u001b[0;34m\u001b[0m\u001b[0;34m\u001b[0m\u001b[0m\n\u001b[1;32m    567\u001b[0m         \u001b[0;31m# _score will return dict if is_multimetric is True\u001b[0m\u001b[0;34m\u001b[0m\u001b[0;34m\u001b[0m\u001b[0;34m\u001b[0m\u001b[0m\n\u001b[0;32m--> 568\u001b[0;31m         \u001b[0mtest_scores\u001b[0m \u001b[0;34m=\u001b[0m \u001b[0m_score\u001b[0m\u001b[0;34m(\u001b[0m\u001b[0mestimator\u001b[0m\u001b[0;34m,\u001b[0m \u001b[0mX_test\u001b[0m\u001b[0;34m,\u001b[0m \u001b[0my_test\u001b[0m\u001b[0;34m,\u001b[0m \u001b[0mscorer\u001b[0m\u001b[0;34m,\u001b[0m \u001b[0mis_multimetric\u001b[0m\u001b[0;34m)\u001b[0m\u001b[0;34m\u001b[0m\u001b[0;34m\u001b[0m\u001b[0m\n\u001b[0m\u001b[1;32m    569\u001b[0m         \u001b[0mscore_time\u001b[0m \u001b[0;34m=\u001b[0m \u001b[0mtime\u001b[0m\u001b[0;34m.\u001b[0m\u001b[0mtime\u001b[0m\u001b[0;34m(\u001b[0m\u001b[0;34m)\u001b[0m \u001b[0;34m-\u001b[0m \u001b[0mstart_time\u001b[0m \u001b[0;34m-\u001b[0m \u001b[0mfit_time\u001b[0m\u001b[0;34m\u001b[0m\u001b[0;34m\u001b[0m\u001b[0m\n\u001b[1;32m    570\u001b[0m         \u001b[0;32mif\u001b[0m \u001b[0mreturn_train_score\u001b[0m\u001b[0;34m:\u001b[0m\u001b[0;34m\u001b[0m\u001b[0;34m\u001b[0m\u001b[0m\n",
      "\u001b[0;32m~/venv3/lib/python3.7/site-packages/sklearn/model_selection/_validation.py\u001b[0m in \u001b[0;36m_score\u001b[0;34m(estimator, X_test, y_test, scorer, is_multimetric)\u001b[0m\n\u001b[1;32m    603\u001b[0m     \"\"\"\n\u001b[1;32m    604\u001b[0m     \u001b[0;32mif\u001b[0m \u001b[0mis_multimetric\u001b[0m\u001b[0;34m:\u001b[0m\u001b[0;34m\u001b[0m\u001b[0;34m\u001b[0m\u001b[0m\n\u001b[0;32m--> 605\u001b[0;31m         \u001b[0;32mreturn\u001b[0m \u001b[0m_multimetric_score\u001b[0m\u001b[0;34m(\u001b[0m\u001b[0mestimator\u001b[0m\u001b[0;34m,\u001b[0m \u001b[0mX_test\u001b[0m\u001b[0;34m,\u001b[0m \u001b[0my_test\u001b[0m\u001b[0;34m,\u001b[0m \u001b[0mscorer\u001b[0m\u001b[0;34m)\u001b[0m\u001b[0;34m\u001b[0m\u001b[0;34m\u001b[0m\u001b[0m\n\u001b[0m\u001b[1;32m    606\u001b[0m     \u001b[0;32melse\u001b[0m\u001b[0;34m:\u001b[0m\u001b[0;34m\u001b[0m\u001b[0;34m\u001b[0m\u001b[0m\n\u001b[1;32m    607\u001b[0m         \u001b[0;32mif\u001b[0m \u001b[0my_test\u001b[0m \u001b[0;32mis\u001b[0m \u001b[0;32mNone\u001b[0m\u001b[0;34m:\u001b[0m\u001b[0;34m\u001b[0m\u001b[0;34m\u001b[0m\u001b[0m\n",
      "\u001b[0;32m~/venv3/lib/python3.7/site-packages/sklearn/model_selection/_validation.py\u001b[0m in \u001b[0;36m_multimetric_score\u001b[0;34m(estimator, X_test, y_test, scorers)\u001b[0m\n\u001b[1;32m    633\u001b[0m             \u001b[0mscore\u001b[0m \u001b[0;34m=\u001b[0m \u001b[0mscorer\u001b[0m\u001b[0;34m(\u001b[0m\u001b[0mestimator\u001b[0m\u001b[0;34m,\u001b[0m \u001b[0mX_test\u001b[0m\u001b[0;34m)\u001b[0m\u001b[0;34m\u001b[0m\u001b[0;34m\u001b[0m\u001b[0m\n\u001b[1;32m    634\u001b[0m         \u001b[0;32melse\u001b[0m\u001b[0;34m:\u001b[0m\u001b[0;34m\u001b[0m\u001b[0;34m\u001b[0m\u001b[0m\n\u001b[0;32m--> 635\u001b[0;31m             \u001b[0mscore\u001b[0m \u001b[0;34m=\u001b[0m \u001b[0mscorer\u001b[0m\u001b[0;34m(\u001b[0m\u001b[0mestimator\u001b[0m\u001b[0;34m,\u001b[0m \u001b[0mX_test\u001b[0m\u001b[0;34m,\u001b[0m \u001b[0my_test\u001b[0m\u001b[0;34m)\u001b[0m\u001b[0;34m\u001b[0m\u001b[0;34m\u001b[0m\u001b[0m\n\u001b[0m\u001b[1;32m    636\u001b[0m \u001b[0;34m\u001b[0m\u001b[0m\n\u001b[1;32m    637\u001b[0m         \u001b[0;32mif\u001b[0m \u001b[0mhasattr\u001b[0m\u001b[0;34m(\u001b[0m\u001b[0mscore\u001b[0m\u001b[0;34m,\u001b[0m \u001b[0;34m'item'\u001b[0m\u001b[0;34m)\u001b[0m\u001b[0;34m:\u001b[0m\u001b[0;34m\u001b[0m\u001b[0;34m\u001b[0m\u001b[0m\n",
      "\u001b[0;32m~/venv3/lib/python3.7/site-packages/sklearn/metrics/scorer.py\u001b[0m in \u001b[0;36m__call__\u001b[0;34m(self, clf, X, y, sample_weight)\u001b[0m\n\u001b[1;32m    174\u001b[0m         \u001b[0my_type\u001b[0m \u001b[0;34m=\u001b[0m \u001b[0mtype_of_target\u001b[0m\u001b[0;34m(\u001b[0m\u001b[0my\u001b[0m\u001b[0;34m)\u001b[0m\u001b[0;34m\u001b[0m\u001b[0;34m\u001b[0m\u001b[0m\n\u001b[1;32m    175\u001b[0m         \u001b[0;32mif\u001b[0m \u001b[0my_type\u001b[0m \u001b[0;32mnot\u001b[0m \u001b[0;32min\u001b[0m \u001b[0;34m(\u001b[0m\u001b[0;34m\"binary\"\u001b[0m\u001b[0;34m,\u001b[0m \u001b[0;34m\"multilabel-indicator\"\u001b[0m\u001b[0;34m)\u001b[0m\u001b[0;34m:\u001b[0m\u001b[0;34m\u001b[0m\u001b[0;34m\u001b[0m\u001b[0m\n\u001b[0;32m--> 176\u001b[0;31m             \u001b[0;32mraise\u001b[0m \u001b[0mValueError\u001b[0m\u001b[0;34m(\u001b[0m\u001b[0;34m\"{0} format is not supported\"\u001b[0m\u001b[0;34m.\u001b[0m\u001b[0mformat\u001b[0m\u001b[0;34m(\u001b[0m\u001b[0my_type\u001b[0m\u001b[0;34m)\u001b[0m\u001b[0;34m)\u001b[0m\u001b[0;34m\u001b[0m\u001b[0;34m\u001b[0m\u001b[0m\n\u001b[0m\u001b[1;32m    177\u001b[0m \u001b[0;34m\u001b[0m\u001b[0m\n\u001b[1;32m    178\u001b[0m         \u001b[0;32mif\u001b[0m \u001b[0mis_regressor\u001b[0m\u001b[0;34m(\u001b[0m\u001b[0mclf\u001b[0m\u001b[0;34m)\u001b[0m\u001b[0;34m:\u001b[0m\u001b[0;34m\u001b[0m\u001b[0;34m\u001b[0m\u001b[0m\n",
      "\u001b[0;31mValueError\u001b[0m: multiclass format is not supported"
     ]
    }
   ],
   "source": [
    "# pred = model(x_resampled, y_resampled, x_test)\n",
    "pred = model(x_test, y_test, x_test)"
   ]
  },
  {
   "cell_type": "code",
   "execution_count": null,
   "metadata": {
    "pycharm": {}
   },
   "outputs": [],
   "source": [
    "f1_score(y_test, pred1, average='macro')"
   ]
  },
  {
   "cell_type": "code",
   "execution_count": null,
   "metadata": {
    "pycharm": {}
   },
   "outputs": [],
   "source": []
  },
  {
   "cell_type": "code",
   "execution_count": null,
   "metadata": {
    "pycharm": {}
   },
   "outputs": [],
   "source": []
  }
 ],
 "metadata": {
  "kernelspec": {
   "display_name": "Python 3",
   "language": "python",
   "name": "python3"
  },
  "language_info": {
   "codemirror_mode": {
    "name": "ipython",
    "version": 3
   },
   "file_extension": ".py",
   "mimetype": "text/x-python",
   "name": "python",
   "nbconvert_exporter": "python",
   "pygments_lexer": "ipython3",
   "version": "3.7.3"
  }
 },
 "nbformat": 4,
 "nbformat_minor": 1
}
