{
 "cells": [
  {
   "cell_type": "code",
   "execution_count": 1,
   "metadata": {
    "pycharm": {
     "is_executing": false
    }
   },
   "outputs": [],
   "source": [
    "import numpy as np\n",
    "import pandas as pd\n",
    "import re\n",
    "\n",
    "#Visualisation Libraries\n",
    "import matplotlib.pyplot as plt\n",
    "%matplotlib inline\n",
    "import warnings\n",
    "warnings.filterwarnings('ignore')\n",
    "import seaborn as sns\n",
    "from pandas.plotting import scatter_matrix\n",
    "\n",
    "#Training and Preprocessing Libraries\n",
    "from xgboost import XGBClassifier\n",
    "from imblearn.ensemble import EasyEnsembleClassifier\n",
    "from sklearn.model_selection import cross_val_score\n",
    "from sklearn.model_selection import train_test_split\n",
    "from sklearn.preprocessing import LabelEncoder\n",
    "from sklearn.metrics import roc_auc_score"
   ]
  },
  {
   "cell_type": "code",
   "execution_count": 2,
   "metadata": {
    "pycharm": {
     "metadata": false,
     "name": "#%%\n"
    }
   },
   "outputs": [],
   "source": [
    "class_names = ['Fatal', 'Severe', 'Slight']\n"
   ]
  },
  {
   "cell_type": "code",
   "execution_count": 3,
   "metadata": {},
   "outputs": [],
   "source": [
    "data1 = pd.read_csv(\"./data/accidents_2005_to_2007.csv\")\n",
    "data2 = pd.read_csv(\"./data/accidents_2009_to_2011.csv\")\n",
    "data3 = pd.read_csv(\"./data/accidents_2012_to_2014.csv\")"
   ]
  },
  {
   "cell_type": "code",
   "execution_count": 4,
   "metadata": {},
   "outputs": [],
   "source": [
    "data = pd.concat([data1, data2, data3])\n"
   ]
  },
  {
   "cell_type": "code",
   "execution_count": 5,
   "metadata": {},
   "outputs": [
    {
     "name": "stdout",
     "output_type": "stream",
     "text": [
      "Empty DataFrame\n",
      "Columns: [Accident_Index, Location_Easting_OSGR, Location_Northing_OSGR, Longitude, Latitude, Police_Force, Accident_Severity, Number_of_Vehicles, Number_of_Casualties, Date, Day_of_Week, Time, Local_Authority_(District), Local_Authority_(Highway), 1st_Road_Class, 1st_Road_Number, Road_Type, Speed_limit, Junction_Detail, Junction_Control, 2nd_Road_Class, 2nd_Road_Number, Pedestrian_Crossing-Human_Control, Pedestrian_Crossing-Physical_Facilities, Light_Conditions, Weather_Conditions, Road_Surface_Conditions, Special_Conditions_at_Site, Carriageway_Hazards, Urban_or_Rural_Area, Did_Police_Officer_Attend_Scene_of_Accident, LSOA_of_Accident_Location, Year]\n",
      "Index: []\n",
      "\n",
      "[0 rows x 33 columns]\n"
     ]
    }
   ],
   "source": [
    "type(data)\n",
    "print(data.head(0))"
   ]
  },
  {
   "cell_type": "code",
   "execution_count": 7,
   "metadata": {},
   "outputs": [
    {
     "data": {
      "text/html": [
       "<style  type=\"text/css\" >\n",
       "    #T_77f87836_6144_11e9_808a_10ddb1bf94b2row0_col1 {\n",
       "            background-color:  yellow;\n",
       "        }    #T_77f87836_6144_11e9_808a_10ddb1bf94b2row8_col0 {\n",
       "            background-color:  yellow;\n",
       "        }</style><table id=\"T_77f87836_6144_11e9_808a_10ddb1bf94b2\" ><thead>    <tr>        <th class=\"blank level0\" ></th>        <th class=\"col_heading level0 col0\" >Year</th>        <th class=\"col_heading level0 col1\" >Number_of_Casualties</th>    </tr></thead><tbody>\n",
       "                <tr>\n",
       "                        <th id=\"T_77f87836_6144_11e9_808a_10ddb1bf94b2level0_row0\" class=\"row_heading level0 row0\" >0</th>\n",
       "                        <td id=\"T_77f87836_6144_11e9_808a_10ddb1bf94b2row0_col0\" class=\"data row0 col0\" >2005</td>\n",
       "                        <td id=\"T_77f87836_6144_11e9_808a_10ddb1bf94b2row0_col1\" class=\"data row0 col1\" >271017</td>\n",
       "            </tr>\n",
       "            <tr>\n",
       "                        <th id=\"T_77f87836_6144_11e9_808a_10ddb1bf94b2level0_row1\" class=\"row_heading level0 row1\" >1</th>\n",
       "                        <td id=\"T_77f87836_6144_11e9_808a_10ddb1bf94b2row1_col0\" class=\"data row1 col0\" >2006</td>\n",
       "                        <td id=\"T_77f87836_6144_11e9_808a_10ddb1bf94b2row1_col1\" class=\"data row1 col1\" >258404</td>\n",
       "            </tr>\n",
       "            <tr>\n",
       "                        <th id=\"T_77f87836_6144_11e9_808a_10ddb1bf94b2level0_row2\" class=\"row_heading level0 row2\" >2</th>\n",
       "                        <td id=\"T_77f87836_6144_11e9_808a_10ddb1bf94b2row2_col0\" class=\"data row2 col0\" >2007</td>\n",
       "                        <td id=\"T_77f87836_6144_11e9_808a_10ddb1bf94b2row2_col1\" class=\"data row2 col1\" >247780</td>\n",
       "            </tr>\n",
       "            <tr>\n",
       "                        <th id=\"T_77f87836_6144_11e9_808a_10ddb1bf94b2level0_row3\" class=\"row_heading level0 row3\" >3</th>\n",
       "                        <td id=\"T_77f87836_6144_11e9_808a_10ddb1bf94b2row3_col0\" class=\"data row3 col0\" >2009</td>\n",
       "                        <td id=\"T_77f87836_6144_11e9_808a_10ddb1bf94b2row3_col1\" class=\"data row3 col1\" >222146</td>\n",
       "            </tr>\n",
       "            <tr>\n",
       "                        <th id=\"T_77f87836_6144_11e9_808a_10ddb1bf94b2level0_row4\" class=\"row_heading level0 row4\" >4</th>\n",
       "                        <td id=\"T_77f87836_6144_11e9_808a_10ddb1bf94b2row4_col0\" class=\"data row4 col0\" >2010</td>\n",
       "                        <td id=\"T_77f87836_6144_11e9_808a_10ddb1bf94b2row4_col1\" class=\"data row4 col1\" >208648</td>\n",
       "            </tr>\n",
       "            <tr>\n",
       "                        <th id=\"T_77f87836_6144_11e9_808a_10ddb1bf94b2level0_row5\" class=\"row_heading level0 row5\" >5</th>\n",
       "                        <td id=\"T_77f87836_6144_11e9_808a_10ddb1bf94b2row5_col0\" class=\"data row5 col0\" >2011</td>\n",
       "                        <td id=\"T_77f87836_6144_11e9_808a_10ddb1bf94b2row5_col1\" class=\"data row5 col1\" >203950</td>\n",
       "            </tr>\n",
       "            <tr>\n",
       "                        <th id=\"T_77f87836_6144_11e9_808a_10ddb1bf94b2level0_row6\" class=\"row_heading level0 row6\" >6</th>\n",
       "                        <td id=\"T_77f87836_6144_11e9_808a_10ddb1bf94b2row6_col0\" class=\"data row6 col0\" >2012</td>\n",
       "                        <td id=\"T_77f87836_6144_11e9_808a_10ddb1bf94b2row6_col1\" class=\"data row6 col1\" >241954</td>\n",
       "            </tr>\n",
       "            <tr>\n",
       "                        <th id=\"T_77f87836_6144_11e9_808a_10ddb1bf94b2level0_row7\" class=\"row_heading level0 row7\" >7</th>\n",
       "                        <td id=\"T_77f87836_6144_11e9_808a_10ddb1bf94b2row7_col0\" class=\"data row7 col0\" >2013</td>\n",
       "                        <td id=\"T_77f87836_6144_11e9_808a_10ddb1bf94b2row7_col1\" class=\"data row7 col1\" >183670</td>\n",
       "            </tr>\n",
       "            <tr>\n",
       "                        <th id=\"T_77f87836_6144_11e9_808a_10ddb1bf94b2level0_row8\" class=\"row_heading level0 row8\" >8</th>\n",
       "                        <td id=\"T_77f87836_6144_11e9_808a_10ddb1bf94b2row8_col0\" class=\"data row8 col0\" >2014</td>\n",
       "                        <td id=\"T_77f87836_6144_11e9_808a_10ddb1bf94b2row8_col1\" class=\"data row8 col1\" >194477</td>\n",
       "            </tr>\n",
       "    </tbody></table>"
      ],
      "text/plain": [
       "<pandas.io.formats.style.Styler at 0x116dcbb00>"
      ]
     },
     "execution_count": 7,
     "metadata": {},
     "output_type": "execute_result"
    }
   ],
   "source": [
    "def max_val(s):\n",
    "    is_max = s == s.max()\n",
    "    return ['background-color: yellow' if v else '' for v in is_max]\n",
    "\n",
    "year_wise_casualties = data.groupby(['Year'])['Number_of_Casualties'].sum()\n",
    "year_wise_casualties = year_wise_casualties.reset_index()\n",
    "year_wise_casualties = year_wise_casualties.style.apply(max_val, axis=0)\n",
    "year_wise_casualties"
   ]
  },
  {
   "cell_type": "code",
   "execution_count": 8,
   "metadata": {},
   "outputs": [
    {
     "data": {
      "text/html": [
       "<style  type=\"text/css\" >\n",
       "    #T_7817b336_6144_11e9_808a_10ddb1bf94b2row0_col1 {\n",
       "            background-color:  yellow;\n",
       "        }    #T_7817b336_6144_11e9_808a_10ddb1bf94b2row0_col3 {\n",
       "            background-color:  yellow;\n",
       "        }    #T_7817b336_6144_11e9_808a_10ddb1bf94b2row1_col3 {\n",
       "            background-color:  yellow;\n",
       "        }    #T_7817b336_6144_11e9_808a_10ddb1bf94b2row2_col2 {\n",
       "            background-color:  yellow;\n",
       "        }    #T_7817b336_6144_11e9_808a_10ddb1bf94b2row2_col3 {\n",
       "            background-color:  yellow;\n",
       "        }    #T_7817b336_6144_11e9_808a_10ddb1bf94b2row3_col3 {\n",
       "            background-color:  yellow;\n",
       "        }    #T_7817b336_6144_11e9_808a_10ddb1bf94b2row4_col0 {\n",
       "            background-color:  yellow;\n",
       "        }    #T_7817b336_6144_11e9_808a_10ddb1bf94b2row4_col3 {\n",
       "            background-color:  yellow;\n",
       "        }    #T_7817b336_6144_11e9_808a_10ddb1bf94b2row5_col3 {\n",
       "            background-color:  yellow;\n",
       "        }    #T_7817b336_6144_11e9_808a_10ddb1bf94b2row6_col3 {\n",
       "            background-color:  yellow;\n",
       "        }</style><table id=\"T_7817b336_6144_11e9_808a_10ddb1bf94b2\" ><thead>    <tr>        <th class=\"blank level0\" ></th>        <th class=\"col_heading level0 col0\" >Day_of_Week</th>        <th class=\"col_heading level0 col1\" >Number_of_Casualties</th>        <th class=\"col_heading level0 col2\" colspan=2>Speed_limit</th>    </tr>    <tr>        <th class=\"blank level1\" ></th>        <th class=\"col_heading level1 col0\" ></th>        <th class=\"col_heading level1 col1\" >sum</th>        <th class=\"col_heading level1 col2\" >min</th>        <th class=\"col_heading level1 col3\" >max</th>    </tr></thead><tbody>\n",
       "                <tr>\n",
       "                        <th id=\"T_7817b336_6144_11e9_808a_10ddb1bf94b2level0_row0\" class=\"row_heading level0 row0\" >0</th>\n",
       "                        <td id=\"T_7817b336_6144_11e9_808a_10ddb1bf94b2row0_col0\" class=\"data row0 col0\" >6</td>\n",
       "                        <td id=\"T_7817b336_6144_11e9_808a_10ddb1bf94b2row0_col1\" class=\"data row0 col1\" >331934</td>\n",
       "                        <td id=\"T_7817b336_6144_11e9_808a_10ddb1bf94b2row0_col2\" class=\"data row0 col2\" >10</td>\n",
       "                        <td id=\"T_7817b336_6144_11e9_808a_10ddb1bf94b2row0_col3\" class=\"data row0 col3\" >70</td>\n",
       "            </tr>\n",
       "            <tr>\n",
       "                        <th id=\"T_7817b336_6144_11e9_808a_10ddb1bf94b2level0_row1\" class=\"row_heading level0 row1\" >1</th>\n",
       "                        <td id=\"T_7817b336_6144_11e9_808a_10ddb1bf94b2row1_col0\" class=\"data row1 col0\" >5</td>\n",
       "                        <td id=\"T_7817b336_6144_11e9_808a_10ddb1bf94b2row1_col1\" class=\"data row1 col1\" >299044</td>\n",
       "                        <td id=\"T_7817b336_6144_11e9_808a_10ddb1bf94b2row1_col2\" class=\"data row1 col2\" >10</td>\n",
       "                        <td id=\"T_7817b336_6144_11e9_808a_10ddb1bf94b2row1_col3\" class=\"data row1 col3\" >70</td>\n",
       "            </tr>\n",
       "            <tr>\n",
       "                        <th id=\"T_7817b336_6144_11e9_808a_10ddb1bf94b2level0_row2\" class=\"row_heading level0 row2\" >2</th>\n",
       "                        <td id=\"T_7817b336_6144_11e9_808a_10ddb1bf94b2row2_col0\" class=\"data row2 col0\" >4</td>\n",
       "                        <td id=\"T_7817b336_6144_11e9_808a_10ddb1bf94b2row2_col1\" class=\"data row2 col1\" >297756</td>\n",
       "                        <td id=\"T_7817b336_6144_11e9_808a_10ddb1bf94b2row2_col2\" class=\"data row2 col2\" >20</td>\n",
       "                        <td id=\"T_7817b336_6144_11e9_808a_10ddb1bf94b2row2_col3\" class=\"data row2 col3\" >70</td>\n",
       "            </tr>\n",
       "            <tr>\n",
       "                        <th id=\"T_7817b336_6144_11e9_808a_10ddb1bf94b2level0_row3\" class=\"row_heading level0 row3\" >3</th>\n",
       "                        <td id=\"T_7817b336_6144_11e9_808a_10ddb1bf94b2row3_col0\" class=\"data row3 col0\" >3</td>\n",
       "                        <td id=\"T_7817b336_6144_11e9_808a_10ddb1bf94b2row3_col1\" class=\"data row3 col1\" >294476</td>\n",
       "                        <td id=\"T_7817b336_6144_11e9_808a_10ddb1bf94b2row3_col2\" class=\"data row3 col2\" >10</td>\n",
       "                        <td id=\"T_7817b336_6144_11e9_808a_10ddb1bf94b2row3_col3\" class=\"data row3 col3\" >70</td>\n",
       "            </tr>\n",
       "            <tr>\n",
       "                        <th id=\"T_7817b336_6144_11e9_808a_10ddb1bf94b2level0_row4\" class=\"row_heading level0 row4\" >4</th>\n",
       "                        <td id=\"T_7817b336_6144_11e9_808a_10ddb1bf94b2row4_col0\" class=\"data row4 col0\" >7</td>\n",
       "                        <td id=\"T_7817b336_6144_11e9_808a_10ddb1bf94b2row4_col1\" class=\"data row4 col1\" >285261</td>\n",
       "                        <td id=\"T_7817b336_6144_11e9_808a_10ddb1bf94b2row4_col2\" class=\"data row4 col2\" >10</td>\n",
       "                        <td id=\"T_7817b336_6144_11e9_808a_10ddb1bf94b2row4_col3\" class=\"data row4 col3\" >70</td>\n",
       "            </tr>\n",
       "            <tr>\n",
       "                        <th id=\"T_7817b336_6144_11e9_808a_10ddb1bf94b2level0_row5\" class=\"row_heading level0 row5\" >5</th>\n",
       "                        <td id=\"T_7817b336_6144_11e9_808a_10ddb1bf94b2row5_col0\" class=\"data row5 col0\" >2</td>\n",
       "                        <td id=\"T_7817b336_6144_11e9_808a_10ddb1bf94b2row5_col1\" class=\"data row5 col1\" >284043</td>\n",
       "                        <td id=\"T_7817b336_6144_11e9_808a_10ddb1bf94b2row5_col2\" class=\"data row5 col2\" >10</td>\n",
       "                        <td id=\"T_7817b336_6144_11e9_808a_10ddb1bf94b2row5_col3\" class=\"data row5 col3\" >70</td>\n",
       "            </tr>\n",
       "            <tr>\n",
       "                        <th id=\"T_7817b336_6144_11e9_808a_10ddb1bf94b2level0_row6\" class=\"row_heading level0 row6\" >6</th>\n",
       "                        <td id=\"T_7817b336_6144_11e9_808a_10ddb1bf94b2row6_col0\" class=\"data row6 col0\" >1</td>\n",
       "                        <td id=\"T_7817b336_6144_11e9_808a_10ddb1bf94b2row6_col1\" class=\"data row6 col1\" >239532</td>\n",
       "                        <td id=\"T_7817b336_6144_11e9_808a_10ddb1bf94b2row6_col2\" class=\"data row6 col2\" >10</td>\n",
       "                        <td id=\"T_7817b336_6144_11e9_808a_10ddb1bf94b2row6_col3\" class=\"data row6 col3\" >70</td>\n",
       "            </tr>\n",
       "    </tbody></table>"
      ],
      "text/plain": [
       "<pandas.io.formats.style.Styler at 0x108bc3cc0>"
      ]
     },
     "execution_count": 8,
     "metadata": {},
     "output_type": "execute_result"
    }
   ],
   "source": [
    "cas_table = data.groupby(['Day_of_Week']).agg({'Number_of_Casualties':['sum'],'Speed_limit':['min','max']})\n",
    "cas_table = cas_table.sort_values([('Number_of_Casualties','sum')],ascending=False)\n",
    "cas_table = cas_table.reset_index()\n",
    "cas_table.style.apply(max_val)"
   ]
  },
  {
   "cell_type": "code",
   "execution_count": 9,
   "metadata": {},
   "outputs": [
    {
     "data": {
      "text/plain": [
       "Accident_Severity             1.000000\n",
       "Number_of_Vehicles            0.075976\n",
       "2nd_Road_Class                0.064321\n",
       "2nd_Road_Number               0.026128\n",
       "Longitude                     0.013946\n",
       "Location_Easting_OSGR         0.013465\n",
       "1st_Road_Class                0.012754\n",
       "Day_of_Week                   0.002961\n",
       "1st_Road_Number              -0.004072\n",
       "Year                         -0.005907\n",
       "Latitude                     -0.031357\n",
       "Location_Northing_OSGR       -0.031395\n",
       "Police_Force                 -0.031712\n",
       "Local_Authority_(District)   -0.031995\n",
       "Speed_limit                  -0.079108\n",
       "Urban_or_Rural_Area          -0.082169\n",
       "Number_of_Casualties         -0.083544\n",
       "Junction_Detail                    NaN\n",
       "Name: Accident_Severity, dtype: float64"
      ]
     },
     "execution_count": 9,
     "metadata": {},
     "output_type": "execute_result"
    }
   ],
   "source": [
    "corr_matrix = data.corr()\n",
    "corr_matrix[\"Accident_Severity\"].sort_values(ascending=False)"
   ]
  },
  {
   "cell_type": "code",
   "execution_count": 6,
   "metadata": {},
   "outputs": [],
   "source": [
    "# 30/11/2007\n",
    "def convert_date_to_day_of_year(dt):\n",
    "    result = re.findall(r'(\\d{2})/(\\d{2})/(\\d{4})',dt)\n",
    "    return result[0][0]\n",
    "   \n",
    "def convert_date_to_month(dt):\n",
    "    result = re.findall(r'(\\d{2})/(\\d{2})/(\\d{4})',dt)\n",
    "    return result[0][1]"
   ]
  },
  {
   "cell_type": "code",
   "execution_count": 7,
   "metadata": {},
   "outputs": [],
   "source": [
    "data['day_of_year'] = data.Date.apply(lambda x: convert_date_to_day_of_year(x))\n",
    "data['month'] = data.Date.apply(lambda x: convert_date_to_month(x))\n"
   ]
  },
  {
   "cell_type": "code",
   "execution_count": 12,
   "metadata": {},
   "outputs": [],
   "source": [
    "# data.hist(bins=50, figsize=(20,15))\n",
    "# plt.show()"
   ]
  },
  {
   "cell_type": "code",
   "execution_count": 13,
   "metadata": {},
   "outputs": [],
   "source": [
    "# fig = data.plot(kind=\"scatter\", x=\"Longitude\", y=\"Latitude\", alpha=0.6,\n",
    "#                    figsize=(18,11),c=\"Accident_Severity\", cmap=plt.get_cmap(\"inferno\"), \n",
    "#                    colorbar=True,)"
   ]
  },
  {
   "cell_type": "code",
   "execution_count": 8,
   "metadata": {},
   "outputs": [
    {
     "data": {
      "text/plain": [
       "array([[<matplotlib.axes._subplots.AxesSubplot object at 0x10f6b7c88>,\n",
       "        <matplotlib.axes._subplots.AxesSubplot object at 0x10e173588>],\n",
       "       [<matplotlib.axes._subplots.AxesSubplot object at 0x10e193a20>,\n",
       "        <matplotlib.axes._subplots.AxesSubplot object at 0x1a24468f98>]],\n",
       "      dtype=object)"
      ]
     },
     "execution_count": 8,
     "metadata": {},
     "output_type": "execute_result"
    },
    {
     "data": {
      "image/png": "[encoded data removed]",
      "text/plain": [
       "<Figure size 720x720 with 4 Axes>"
      ]
     },
     "metadata": {
      "needs_background": "light"
     },
     "output_type": "display_data"
    }
   ],
   "source": [
    "attributes = [\"Number_of_Vehicles\", \"Time\", \"Road_Type\", \"Pedestrian_Crossing-Human_Control\", \"Pedestrian_Crossing-Physical_Facilities\", \"Light_Conditions\", \"Weather_Conditions\", \"Road_Surface_Conditions\",\"Accident_Severity\"]\n",
    "scatter_matrix(data[attributes], figsize=(10, 10))\n",
    "\n",
    "\n"
   ]
  },
  {
   "cell_type": "code",
   "execution_count": 9,
   "metadata": {},
   "outputs": [],
   "source": [
    "drop_columns = ['Date', 'Accident_Index', 'Number_of_Casualties', 'Police_Force', 'Junction_Detail', 'Junction_Control', 'Special_Conditions_at_Site', 'Carriageway_Hazards', 'Did_Police_Officer_Attend_Scene_of_Accident', 'LSOA_of_Accident_Location', 'Local_Authority_(District)', 'Local_Authority_(Highway)']"
   ]
  },
  {
   "cell_type": "code",
   "execution_count": 10,
   "metadata": {},
   "outputs": [],
   "source": [
    "data1 = data.drop(drop_columns, axis=1, inplace=False)\n",
    "data1.dropna(inplace=True)"
   ]
  },
  {
   "cell_type": "code",
   "execution_count": 11,
   "metadata": {},
   "outputs": [],
   "source": [
    "#Drop rows with 'Unknown' values\n",
    "data1 = data1[data1.Weather_Conditions!='Unknown']\n",
    "data1 = data1[data1.Road_Type!='Unknown']"
   ]
  },
  {
   "cell_type": "code",
   "execution_count": 12,
   "metadata": {},
   "outputs": [],
   "source": [
    "#Encode \"String\" Labels into \"Int\" Labels for easy training\n",
    "le = LabelEncoder()\n",
    "data1[\"Pedestrian_Crossing-Physical_Facilities\"]= le.fit_transform(data1[\"Pedestrian_Crossing-Physical_Facilities\"])\n",
    "data1[\"Light_Conditions\"]= le.fit_transform(data1[\"Light_Conditions\"])\n",
    "data1[\"Weather_Conditions\"] = le.fit_transform(data1[\"Weather_Conditions\"])\n",
    "data1[\"Road_Surface_Conditions\"] = le.fit_transform(data1[\"Road_Surface_Conditions\"])\n",
    "data1[\"Pedestrian_Crossing-Human_Control\"] = le.fit_transform(data1[\"Pedestrian_Crossing-Human_Control\"])\n",
    "data1[\"Road_Type\"] = le.fit_transform(data1[\"Road_Type\"])\n",
    "\n",
    "#Converting Time into Int for easy training\n",
    "data1[\"Time\"]= data1[\"Time\"].astype(str)\n",
    "data1['Time']=data1['Time'].str.slice(0,2, 1)\n",
    "data1[\"Time\"]= data1[\"Time\"].astype(int)"
   ]
  },
  {
   "cell_type": "code",
   "execution_count": 13,
   "metadata": {},
   "outputs": [
    {
     "name": "stdout",
     "output_type": "stream",
     "text": [
      "   Location_Easting_OSGR  Location_Northing_OSGR  Longitude   Latitude  \\\n",
      "0               525680.0                178240.0  -0.191170  51.489096   \n",
      "1               524170.0                181650.0  -0.211708  51.520075   \n",
      "2               524520.0                182240.0  -0.206458  51.525301   \n",
      "3               526900.0                177530.0  -0.173862  51.482442   \n",
      "4               528060.0                179040.0  -0.156618  51.495752   \n",
      "\n",
      "   Accident_Severity  Number_of_Vehicles  Day_of_Week  Time  1st_Road_Class  \\\n",
      "0                  2                   1            3    17               3   \n",
      "1                  3                   1            4    17               4   \n",
      "2                  3                   2            5     0               5   \n",
      "3                  3                   1            6    10               3   \n",
      "4                  3                   1            2    21               6   \n",
      "\n",
      "   1st_Road_Number  ...  2nd_Road_Number  Pedestrian_Crossing-Human_Control  \\\n",
      "0             3218  ...                0                                  2   \n",
      "1              450  ...                0                                  2   \n",
      "2                0  ...                0                                  2   \n",
      "3             3220  ...                0                                  2   \n",
      "4                0  ...                0                                  2   \n",
      "\n",
      "   Pedestrian_Crossing-Physical_Facilities  Light_Conditions  \\\n",
      "0                                        4                 4   \n",
      "1                                        3                 2   \n",
      "2                                        2                 2   \n",
      "3                                        2                 4   \n",
      "4                                        2                 1   \n",
      "\n",
      "   Weather_Conditions  Road_Surface_Conditions  Urban_or_Rural_Area  Year  \\\n",
      "0                   5                        4                    1  2005   \n",
      "1                   1                        0                    1  2005   \n",
      "2                   1                        0                    1  2005   \n",
      "3                   1                        0                    1  2005   \n",
      "4                   1                        4                    1  2005   \n",
      "\n",
      "   day_of_year  month  \n",
      "0           04     01  \n",
      "1           05     01  \n",
      "2           06     01  \n",
      "3           07     01  \n",
      "4           10     01  \n",
      "\n",
      "[5 rows x 23 columns]\n"
     ]
    }
   ],
   "source": [
    "print(data1[:5])"
   ]
  },
  {
   "cell_type": "code",
   "execution_count": 14,
   "metadata": {},
   "outputs": [
    {
     "name": "stdout",
     "output_type": "stream",
     "text": [
      "10    3\n",
      "11    3\n",
      "12    3\n",
      "13    3\n",
      "14    3\n",
      "15    3\n",
      "16    2\n",
      "17    3\n",
      "18    3\n",
      "19    2\n",
      "Name: Accident_Severity, dtype: int64\n"
     ]
    }
   ],
   "source": [
    "print(data1[\"Accident_Severity\"][10:20])\n",
    "# print(le.fit_transform(data[\"Accident_Severity\"])[100:200])"
   ]
  },
  {
   "cell_type": "code",
   "execution_count": 15,
   "metadata": {},
   "outputs": [],
   "source": [
    "train,test = train_test_split(data1,test_size=.25)"
   ]
  },
  {
   "cell_type": "code",
   "execution_count": 16,
   "metadata": {},
   "outputs": [],
   "source": [
    "# def preprocessing(data):\n",
    "#     #Drop useless columns and nan values\n",
    "#     data.drop(drop_columns, axis=1, inplace=True)\n",
    "#     data.dropna(inplace=True)\n",
    "    \n",
    "#     #Drop rows with 'Unknown' values\n",
    "#     data = data[data.Weather_Conditions!='Unknown']\n",
    "#     data = data[data.Road_Type!='Unknown']\n",
    "    \n",
    "#     #Encode \"String\" Labels into \"Int\" Labels for easy training\n",
    "#     le = LabelEncoder()\n",
    "#     data[\"Pedestrian_Crossing-Physical_Facilities\"]= le.fit_transform(data[\"Pedestrian_Crossing-Physical_Facilities\"])\n",
    "#     data[\"Light_Conditions\"]= le.fit_transform(data[\"Light_Conditions\"])\n",
    "#     data[\"Weather_Conditions\"] = le.fit_transform(data[\"Weather_Conditions\"])\n",
    "#     data[\"Road_Surface_Conditions\"] = le.fit_transform(data[\"Road_Surface_Conditions\"])\n",
    "#     data[\"Pedestrian_Crossing-Human_Control\"] = le.fit_transform(data[\"Pedestrian_Crossing-Human_Control\"])\n",
    "#     data[\"Road_Type\"] = le.fit_transform(data[\"Road_Type\"])\n",
    "    \n",
    "#     #Converting Time into Int for easy training\n",
    "#     data[\"Time\"]= data[\"Time\"].astype(str)\n",
    "#     data['Time']=data['Time'].str.slice(0,2, 1)\n",
    "#     data[\"Time\"]= data[\"Time\"].astype(int)\n",
    "    \n",
    "#     #Creating 3 additional columns, one each for each class we need to classify into\n",
    "# #     onehot = pd.get_dummies(data.Accident_Severity,prefix=['Severity'])\n",
    "    \n",
    "# #     data[\"Fatal\"] = onehot[\"['Severity']_1\"]\n",
    "# #     data[\"Severe\"] = onehot[\"['Severity']_2\"]\n",
    "# #     data[\"Slight\"] = onehot[\"['Severity']_3\"]\n",
    "    \n",
    "#     #Finally splitting the data into train and test\n",
    "#     train,test = train_test_split(data,test_size=.25)\n",
    "    \n",
    "#     return (train,test)"
   ]
  },
  {
   "cell_type": "code",
   "execution_count": 17,
   "metadata": {},
   "outputs": [],
   "source": [
    "# train,test = preprocessing(data1)\n"
   ]
  },
  {
   "cell_type": "code",
   "execution_count": 18,
   "metadata": {},
   "outputs": [],
   "source": [
    "train_features = train[[\"Number_of_Vehicles\", \"Day_of_Week\", \"Time\", \"Road_Type\", \"Speed_limit\", \"Pedestrian_Crossing-Human_Control\", \"Pedestrian_Crossing-Physical_Facilities\", \"Light_Conditions\", \"Weather_Conditions\", \"Road_Surface_Conditions\",\"Year\", \"Urban_or_Rural_Area\"]]\n",
    "test_features =test[[\"Number_of_Vehicles\", \"Day_of_Week\", \"Time\", \"Road_Type\", \"Speed_limit\", \"Pedestrian_Crossing-Human_Control\", \"Pedestrian_Crossing-Physical_Facilities\", \"Light_Conditions\", \"Weather_Conditions\", \"Road_Surface_Conditions\",\"Year\", \"Urban_or_Rural_Area\"]]"
   ]
  },
  {
   "cell_type": "code",
   "execution_count": 19,
   "metadata": {},
   "outputs": [],
   "source": [
    "predicted_classes = []"
   ]
  },
  {
   "cell_type": "code",
   "execution_count": 20,
   "metadata": {},
   "outputs": [
    {
     "name": "stdout",
     "output_type": "stream",
     "text": [
      "(1100994, 23)\n"
     ]
    }
   ],
   "source": [
    "print(train.shape)"
   ]
  },
  {
   "cell_type": "code",
   "execution_count": 21,
   "metadata": {},
   "outputs": [],
   "source": [
    "y_train = train['Accident_Severity']\n",
    "# x_train = train.loc[:, train.columns != 'Accident_Severity']\n",
    "x_train = train_features\n"
   ]
  },
  {
   "cell_type": "code",
   "execution_count": 22,
   "metadata": {},
   "outputs": [],
   "source": [
    "y_test = test['Accident_Severity'] \n",
    "# x_test = test.loc[:, train.columns != 'Accident_Severity']\n",
    "x_test = test_features"
   ]
  },
  {
   "cell_type": "code",
   "execution_count": 23,
   "metadata": {},
   "outputs": [
    {
     "name": "stdout",
     "output_type": "stream",
     "text": [
      "Empty DataFrame\n",
      "Columns: [Location_Easting_OSGR, Location_Northing_OSGR, Longitude, Latitude, Number_of_Vehicles, Day_of_Week, Time, 1st_Road_Class, 1st_Road_Number, Road_Type, Speed_limit, 2nd_Road_Class, 2nd_Road_Number, Pedestrian_Crossing-Human_Control, Pedestrian_Crossing-Physical_Facilities, Light_Conditions, Weather_Conditions, Road_Surface_Conditions, Urban_or_Rural_Area, Year, day_of_year, month]\n",
      "Index: []\n",
      "\n",
      "[0 rows x 22 columns]\n"
     ]
    }
   ],
   "source": [
    "print(test.loc[:, train.columns != 'Accident_Severity'].head(0))"
   ]
  },
  {
   "cell_type": "code",
   "execution_count": 24,
   "metadata": {},
   "outputs": [
    {
     "name": "stdout",
     "output_type": "stream",
     "text": [
      "x_train:  (1100994, 12)\n",
      "x_test:  (366998, 12)\n",
      "y_train:  (1100994,)\n",
      "y_test:  (366998,)\n"
     ]
    }
   ],
   "source": [
    "print(\"x_train: \", x_train.shape)\n",
    "print(\"x_test: \", x_test.shape)\n",
    "print(\"y_train: \", y_train.shape)\n",
    "print(\"y_test: \", y_test.shape)"
   ]
  },
  {
   "cell_type": "code",
   "execution_count": 25,
   "metadata": {},
   "outputs": [
    {
     "name": "stdout",
     "output_type": "stream",
     "text": [
      "        Number_of_Vehicles  Day_of_Week  Time  Road_Type  Speed_limit  \\\n",
      "263992                   2            6    17          3           60   \n",
      "289470                   2            7    10          3           40   \n",
      "333583                   2            5    12          3           30   \n",
      "465762                   2            4    13          3           30   \n",
      "260698                   2            6     8          3           30   \n",
      "301606                   2            3    17          3           30   \n",
      "293585                   2            4    10          3           30   \n",
      "43700                    3            6    13          3           60   \n",
      "513477                   1            6    14          3           60   \n",
      "\n",
      "        Pedestrian_Crossing-Human_Control  \\\n",
      "263992                                  2   \n",
      "289470                                  2   \n",
      "333583                                  2   \n",
      "465762                                  2   \n",
      "260698                                  2   \n",
      "301606                                  2   \n",
      "293585                                  2   \n",
      "43700                                   2   \n",
      "513477                                  2   \n",
      "\n",
      "        Pedestrian_Crossing-Physical_Facilities  Light_Conditions  \\\n",
      "263992                                        2                 0   \n",
      "289470                                        2                 4   \n",
      "333583                                        3                 4   \n",
      "465762                                        2                 4   \n",
      "260698                                        3                 4   \n",
      "301606                                        2                 4   \n",
      "293585                                        2                 4   \n",
      "43700                                         2                 4   \n",
      "513477                                        2                 4   \n",
      "\n",
      "        Weather_Conditions  Road_Surface_Conditions  Year  Urban_or_Rural_Area  \n",
      "263992                   1                        4  2006                    2  \n",
      "289470                   5                        4  2006                    2  \n",
      "333583                   1                        0  2011                    1  \n",
      "465762                   1                        0  2011                    1  \n",
      "260698                   1                        0  2013                    1  \n",
      "301606                   1                        0  2010                    2  \n",
      "293585                   1                        0  2013                    1  \n",
      "43700                    5                        4  2012                    2  \n",
      "513477                   1                        4  2007                    2           Number_of_Vehicles  Day_of_Week  Time  Road_Type  Speed_limit  \\\n",
      "379277                   2            6    10          2           30   \n",
      "367815                   2            1     8          3           40   \n",
      "508655                   1            2    17          0           70   \n",
      "418031                   2            6    23          0           70   \n",
      "275106                   2            6    19          3           30   \n",
      "165244                   2            5     9          0           50   \n",
      "403483                   2            4    16          0           40   \n",
      "313016                   2            4     9          3           50   \n",
      "351145                   1            7    23          3           30   \n",
      "\n",
      "        Pedestrian_Crossing-Human_Control  \\\n",
      "379277                                  2   \n",
      "367815                                  2   \n",
      "508655                                  2   \n",
      "418031                                  2   \n",
      "275106                                  2   \n",
      "165244                                  2   \n",
      "403483                                  2   \n",
      "313016                                  2   \n",
      "351145                                  2   \n",
      "\n",
      "        Pedestrian_Crossing-Physical_Facilities  Light_Conditions  \\\n",
      "379277                                        2                 4   \n",
      "367815                                        2                 4   \n",
      "508655                                        2                 4   \n",
      "418031                                        2                 2   \n",
      "275106                                        4                 2   \n",
      "165244                                        2                 4   \n",
      "403483                                        2                 4   \n",
      "313016                                        5                 4   \n",
      "351145                                        2                 2   \n",
      "\n",
      "        Weather_Conditions  Road_Surface_Conditions  Year  Urban_or_Rural_Area  \n",
      "379277                   1                        0  2014                    1  \n",
      "367815                   1                        0  2014                    1  \n",
      "508655                   5                        4  2007                    2  \n",
      "418031                   5                        4  2007                    2  \n",
      "275106                   5                        4  2010                    1  \n",
      "165244                   1                        0  2012                    1  \n",
      "403483                   1                        0  2007                    1  \n",
      "313016                   1                        0  2006                    1  \n",
      "351145                   1                        0  2011                    1  \n"
     ]
    }
   ],
   "source": [
    "print(x_test[1:10], x_train[1:10])"
   ]
  },
  {
   "cell_type": "code",
   "execution_count": 26,
   "metadata": {},
   "outputs": [
    {
     "name": "stdout",
     "output_type": "stream",
     "text": [
      "263992    3\n",
      "289470    2\n",
      "333583    3\n",
      "465762    3\n",
      "260698    3\n",
      "301606    3\n",
      "293585    3\n",
      "43700     2\n",
      "513477    3\n",
      "Name: Accident_Severity, dtype: int64 379277    3\n",
      "367815    3\n",
      "508655    3\n",
      "418031    3\n",
      "275106    2\n",
      "165244    3\n",
      "403483    3\n",
      "313016    3\n",
      "351145    1\n",
      "Name: Accident_Severity, dtype: int64\n"
     ]
    }
   ],
   "source": [
    "print(y_test[1:10], y_train[1:10])"
   ]
  },
  {
   "cell_type": "code",
   "execution_count": null,
   "metadata": {},
   "outputs": [],
   "source": []
  },
  {
   "cell_type": "code",
   "execution_count": 27,
   "metadata": {},
   "outputs": [],
   "source": [
    "def classify(clf, X_train, Y_train, X_test):\n",
    "    print('_' * 80)\n",
    "    print(\"Training: \")\n",
    "    print(clf)\n",
    "#     t0 = time()\n",
    "    clf.fit(X_train, Y_train)\n",
    "#     train_time = time() - t0\n",
    "#     print(\"train time: %0.3fs\" % train_time)\n",
    "    \n",
    "#     t0 = time()\n",
    "    pred = clf.predict(X_test)\n",
    "#     test_time = time() - t0\n",
    "#     print(\"test time:  %0.3fs\" % test_time)\n",
    "    print(type(pred))\n",
    "    return pred"
   ]
  },
  {
   "cell_type": "code",
   "execution_count": 28,
   "metadata": {},
   "outputs": [],
   "source": [
    "from sklearn.neighbors import KNeighborsClassifier\n",
    "from sklearn.ensemble import RandomForestClassifier\n",
    "from sklearn.ensemble import GradientBoostingClassifier\n",
    "from sklearn.metrics import f1_score\n"
   ]
  },
  {
   "cell_type": "code",
   "execution_count": 29,
   "metadata": {},
   "outputs": [
    {
     "name": "stdout",
     "output_type": "stream",
     "text": [
      "________________________________________________________________________________\n",
      "Training: \n",
      "RandomForestClassifier(bootstrap=True, class_weight=None, criterion='gini',\n",
      "            max_depth=None, max_features='auto', max_leaf_nodes=None,\n",
      "            min_impurity_decrease=0.0, min_impurity_split=None,\n",
      "            min_samples_leaf=1, min_samples_split=2,\n",
      "            min_weight_fraction_leaf=0.0, n_estimators='warn', n_jobs=None,\n",
      "            oob_score=False, random_state=None, verbose=0,\n",
      "            warm_start=False)\n",
      "<class 'numpy.ndarray'>\n"
     ]
    }
   ],
   "source": [
    "pred = classify(RandomForestClassifier(), x_train, y_train, x_test)"
   ]
  },
  {
   "cell_type": "code",
   "execution_count": 30,
   "metadata": {},
   "outputs": [
    {
     "name": "stdout",
     "output_type": "stream",
     "text": [
      "________________________________________________________________________________\n",
      "Training: \n",
      "KNeighborsClassifier(algorithm='auto', leaf_size=30, metric='minkowski',\n",
      "           metric_params=None, n_jobs=None, n_neighbors=4, p=2,\n",
      "           weights='uniform')\n",
      "<class 'numpy.ndarray'>\n"
     ]
    }
   ],
   "source": [
    "pred1 = classify(KNeighborsClassifier(n_neighbors=4), x_train, y_train, x_test)"
   ]
  },
  {
   "cell_type": "code",
   "execution_count": 31,
   "metadata": {},
   "outputs": [
    {
     "name": "stdout",
     "output_type": "stream",
     "text": [
      "________________________________________________________________________________\n",
      "Training: \n",
      "GradientBoostingClassifier(criterion='friedman_mse', init=None,\n",
      "              learning_rate=0.1, loss='deviance', max_depth=3,\n",
      "              max_features=None, max_leaf_nodes=None,\n",
      "              min_impurity_decrease=0.0, min_impurity_split=None,\n",
      "              min_samples_leaf=1, min_samples_split=2,\n",
      "              min_weight_fraction_leaf=0.0, n_estimators=100,\n",
      "              n_iter_no_change=None, presort='auto', random_state=None,\n",
      "              subsample=1.0, tol=0.0001, validation_fraction=0.1,\n",
      "              verbose=0, warm_start=False)\n",
      "<class 'numpy.ndarray'>\n"
     ]
    }
   ],
   "source": [
    "pred2 = classify(GradientBoostingClassifier(), x_train, y_train, x_test)"
   ]
  },
  {
   "cell_type": "code",
   "execution_count": 32,
   "metadata": {},
   "outputs": [
    {
     "name": "stderr",
     "output_type": "stream",
     "text": [
      "/Users/varunshah/anaconda3/lib/python3.7/site-packages/sklearn/metrics/classification.py:1143: UndefinedMetricWarning: F-score is ill-defined and being set to 0.0 in labels with no predicted samples.\n",
      "  'precision', 'predicted', average, warn_for)\n"
     ]
    },
    {
     "data": {
      "text/plain": [
       "0.30652796275645244"
      ]
     },
     "execution_count": 32,
     "metadata": {},
     "output_type": "execute_result"
    }
   ],
   "source": [
    "f1_score(y_test, pred2, average='macro')"
   ]
  },
  {
   "cell_type": "code",
   "execution_count": 33,
   "metadata": {},
   "outputs": [
    {
     "data": {
      "text/plain": [
       "0.35213066475447247"
      ]
     },
     "execution_count": 33,
     "metadata": {},
     "output_type": "execute_result"
    }
   ],
   "source": [
    "f1_score(y_test, pred1, average='macro')"
   ]
  },
  {
   "cell_type": "code",
   "execution_count": 34,
   "metadata": {},
   "outputs": [
    {
     "data": {
      "text/plain": [
       "0.34326809163949595"
      ]
     },
     "execution_count": 34,
     "metadata": {},
     "output_type": "execute_result"
    }
   ],
   "source": [
    "f1_score(y_test, pred, average='macro')"
   ]
  },
  {
   "cell_type": "code",
   "execution_count": null,
   "metadata": {},
   "outputs": [],
   "source": [
    "def model():\n",
    "    scores=[]\n",
    "    acc_score=[]\n",
    "    submission = pd.DataFrame.from_dict({'Accident_Index': test['Accident_Index']})\n",
    "    classifier = EasyEnsembleClassifier(n_estimators=12, base_estimator=XGBClassifier(max_depth=4, learning_rate=0.2, n_estimators=600, silent=True,\n",
    "                        subsample = 0.8,\n",
    "                        gamma=0.5,\n",
    "                        min_child_weight=10,\n",
    "                        objective='binary:logistic',\n",
    "                        colsample_bytree = 0.6,\n",
    "                        max_delta_step = 1,\n",
    "                        nthreads=1,\n",
    "                        n_jobs=1))\n",
    "    \n",
    "    for class_name in class_names:\n",
    "        train_target = train[class_name]\n",
    "\n",
    "        cv_score = np.mean(cross_val_score(\n",
    "            classifier, train_features, train_target, cv=3, scoring='roc_auc'))\n",
    "        scores.append(cv_score)\n",
    "        print('CV score for class {} is {}'.format(class_name, cv_score))\n",
    "\n",
    "        classifier.fit(train_features, train_target)\n",
    "        \n",
    "        submission[class_name] = classifier.predict_proba(test_features)[:, 1]\n",
    "        acc = roc_auc_score(test[class_name],submission[class_name])\n",
    "        acc_score.append(acc)\n",
    "        print('Mean accuracy for class {} is {}'.format(class_name,acc))\n",
    "    \n",
    "    return (scores,acc_score)\n"
   ]
  },
  {
   "cell_type": "code",
   "execution_count": null,
   "metadata": {},
   "outputs": [],
   "source": [
    "# cv, acc = model()"
   ]
  },
  {
   "cell_type": "code",
   "execution_count": null,
   "metadata": {},
   "outputs": [],
   "source": [
    "# print('Total CV score is {}'.format(np.mean(cv)))\n",
    "# print('Total accuracy score is {}'.format(np.mean(acc)))"
   ]
  },
  {
   "cell_type": "code",
   "execution_count": null,
   "metadata": {},
   "outputs": [],
   "source": []
  },
  {
   "cell_type": "code",
   "execution_count": null,
   "metadata": {},
   "outputs": [],
   "source": []
  },
  {
   "cell_type": "code",
   "execution_count": null,
   "metadata": {},
   "outputs": [],
   "source": []
  },
  {
   "cell_type": "code",
   "execution_count": null,
   "metadata": {},
   "outputs": [],
   "source": []
  },
  {
   "cell_type": "code",
   "execution_count": null,
   "metadata": {},
   "outputs": [],
   "source": []
  },
  {
   "cell_type": "code",
   "execution_count": null,
   "metadata": {},
   "outputs": [],
   "source": []
  },
  {
   "cell_type": "code",
   "execution_count": null,
   "metadata": {},
   "outputs": [],
   "source": []
  },
  {
   "cell_type": "code",
   "execution_count": null,
   "metadata": {},
   "outputs": [],
   "source": []
  },
  {
   "cell_type": "code",
   "execution_count": null,
   "metadata": {},
   "outputs": [],
   "source": []
  },
  {
   "cell_type": "code",
   "execution_count": null,
   "metadata": {},
   "outputs": [],
   "source": []
  },
  {
   "cell_type": "code",
   "execution_count": null,
   "metadata": {},
   "outputs": [],
   "source": []
  }
 ],
 "metadata": {
  "kernelspec": {
   "display_name": "Python 3",
   "language": "python",
   "name": "python3"
  },
  "language_info": {
   "codemirror_mode": {
    "name": "ipython",
    "version": 3
   },
   "file_extension": ".py",
   "mimetype": "text/x-python",
   "name": "python",
   "nbconvert_exporter": "python",
   "pygments_lexer": "ipython3",
   "version": "3.7.3"
  }
 },
 "nbformat": 4,
 "nbformat_minor": 1
}
