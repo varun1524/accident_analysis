{
 "cells": [
  {
   "cell_type": "code",
   "execution_count": 1,
   "metadata": {
    "pycharm": {
     "is_executing": false
    }
   },
   "outputs": [],
   "source": [
    "import numpy as np\n",
    "import pandas as pd\n",
    "import re\n",
    "\n",
    "#Visualisation Libraries\n",
    "import matplotlib.pyplot as plt\n",
    "%matplotlib inline\n",
    "import warnings\n",
    "warnings.filterwarnings('ignore')\n",
    "import seaborn as sns\n",
    "from pandas.plotting import scatter_matrix\n",
    "\n",
    "#Training and Preprocessing Libraries\n",
    "from sklearn.model_selection import cross_val_score\n",
    "from sklearn.model_selection import train_test_split\n",
    "from sklearn.preprocessing import LabelEncoder\n",
    "from sklearn.metrics import roc_auc_score\n",
    "\n",
    "# sampling\n",
    "from imblearn.over_sampling import RandomOverSampler\n",
    "from imblearn.over_sampling import SMOTE, ADASYN\n",
    "\n",
    "# classifiers\n",
    "from sklearn.neighbors import KNeighborsClassifier\n",
    "from sklearn.ensemble import RandomForestClassifier\n",
    "from sklearn.ensemble import GradientBoostingClassifier\n",
    "\n",
    "from sklearn.metrics import f1_score, recall_score, precision_score, accuracy_score\n",
    "\n",
    "from sklearn.tree import export_graphviz\n",
    "from subprocess import call\n",
    "from IPython.display import Image"
   ]
  },
  {
   "cell_type": "code",
   "execution_count": 2,
   "metadata": {
    "pycharm": {
     "metadata": false,
     "name": "#%%\n"
    }
   },
   "outputs": [],
   "source": [
    "class_dict = {'Fatal': 1, 'Severe': 2, 'Slight': 3}\n",
    "class_labels = ['Fatal', 'Severe', 'Slight']\n",
    "#1 = Fatal, \n",
    "#2 = Serious, \n",
    "#3 = Slight\n"
   ]
  },
  {
   "cell_type": "code",
   "execution_count": 3,
   "metadata": {
    "pycharm": {}
   },
   "outputs": [],
   "source": [
    "data1 = pd.read_csv(\"./data/accidents_2005_to_2007.csv\")\n",
    "data2 = pd.read_csv(\"./data/accidents_2009_to_2011.csv\")\n",
    "data3 = pd.read_csv(\"./data/accidents_2012_to_2014.csv\")"
   ]
  },
  {
   "cell_type": "code",
   "execution_count": 4,
   "metadata": {
    "pycharm": {}
   },
   "outputs": [],
   "source": [
    "data = pd.concat([data1, data2, data3])\n"
   ]
  },
  {
   "cell_type": "code",
   "execution_count": 5,
   "metadata": {
    "pycharm": {}
   },
   "outputs": [],
   "source": [
    "# type(data)\n",
    "# print(data.head(0))"
   ]
  },
  {
   "cell_type": "code",
   "execution_count": 6,
   "metadata": {
    "pycharm": {}
   },
   "outputs": [],
   "source": [
    "# def max_val(s):\n",
    "#     is_max = s == s.max()\n",
    "#     return ['background-color: yellow' if v else '' for v in is_max]\n",
    "\n",
    "# year_wise_casualties = data.groupby(['Year'])['Number_of_Casualties'].sum()\n",
    "# year_wise_casualties = year_wise_casualties.reset_index()\n",
    "# year_wise_casualties = year_wise_casualties.style.apply(max_val, axis=0)\n",
    "# year_wise_casualties"
   ]
  },
  {
   "cell_type": "code",
   "execution_count": 7,
   "metadata": {
    "pycharm": {}
   },
   "outputs": [],
   "source": [
    "# cas_table = data.groupby(['Day_of_Week']).agg({'Number_of_Casualties':['sum'],'Speed_limit':['min','max']})\n",
    "# cas_table = cas_table.sort_values([('Number_of_Casualties','sum')],ascending=False)\n",
    "# cas_table = cas_table.reset_index()\n",
    "# cas_table.style.apply(max_val)"
   ]
  },
  {
   "cell_type": "code",
   "execution_count": 8,
   "metadata": {
    "pycharm": {}
   },
   "outputs": [],
   "source": [
    "# corr_matrix = data.corr()\n",
    "# corr_matrix[\"Accident_Severity\"].sort_values(ascending=False)"
   ]
  },
  {
   "cell_type": "code",
   "execution_count": 9,
   "metadata": {
    "pycharm": {}
   },
   "outputs": [],
   "source": [
    "# 30/11/2007\n",
    "def convert_date_to_day_of_year(dt):\n",
    "    result = re.findall(r'(\\d{2})/(\\d{2})/(\\d{4})',dt)\n",
    "    return result[0][0]\n",
    "   \n",
    "def convert_date_to_month(dt):\n",
    "    result = re.findall(r'(\\d{2})/(\\d{2})/(\\d{4})',dt)\n",
    "    return result[0][1]"
   ]
  },
  {
   "cell_type": "code",
   "execution_count": 10,
   "metadata": {
    "pycharm": {}
   },
   "outputs": [],
   "source": [
    "data['day_of_year'] = data.Date.apply(lambda x: convert_date_to_day_of_year(x))\n",
    "data['month'] = data.Date.apply(lambda x: convert_date_to_month(x))\n"
   ]
  },
  {
   "cell_type": "code",
   "execution_count": 11,
   "metadata": {
    "pycharm": {}
   },
   "outputs": [],
   "source": [
    "drop_columns = ['Date', 'Accident_Index', 'Number_of_Casualties', 'Police_Force', 'Junction_Detail', 'Junction_Control', 'Special_Conditions_at_Site', 'Carriageway_Hazards', 'Did_Police_Officer_Attend_Scene_of_Accident', 'LSOA_of_Accident_Location', 'Local_Authority_(District)', 'Local_Authority_(Highway)']"
   ]
  },
  {
   "cell_type": "code",
   "execution_count": 12,
   "metadata": {
    "pycharm": {}
   },
   "outputs": [],
   "source": [
    "data1 = data.drop(drop_columns, axis=1, inplace=False)\n",
    "data1.dropna(inplace=True)"
   ]
  },
  {
   "cell_type": "code",
   "execution_count": 13,
   "metadata": {
    "pycharm": {}
   },
   "outputs": [],
   "source": [
    "#Drop rows with 'Unknown' values\n",
    "data1 = data1[data1.Weather_Conditions!='Unknown']\n",
    "data1 = data1[data1.Road_Type!='Unknown']"
   ]
  },
  {
   "cell_type": "code",
   "execution_count": 14,
   "metadata": {
    "pycharm": {}
   },
   "outputs": [
    {
     "data": {
      "text/plain": [
       "LabelEncoder()"
      ]
     },
     "execution_count": 14,
     "metadata": {},
     "output_type": "execute_result"
    }
   ],
   "source": [
    "#Encode \"String\" Labels into \"Int\" Labels for easy training\n",
    "le_Pedestrian_Crossing_Physical_Facilities = LabelEncoder()\n",
    "le_Light_Conditions = LabelEncoder()\n",
    "le_Weather_Conditions = LabelEncoder()\n",
    "le_Road_Surface_Conditions = LabelEncoder()\n",
    "le_Pedestrian_Crossing_Human_Control = LabelEncoder()\n",
    "le_Road_Type = LabelEncoder()\n",
    "\n",
    "\n",
    "le_Pedestrian_Crossing_Physical_Facilities.fit(data1[\"Pedestrian_Crossing-Physical_Facilities\"])\n",
    "le_Light_Conditions.fit(data1[\"Light_Conditions\"])\n",
    "le_Weather_Conditions.fit(data1[\"Weather_Conditions\"])\n",
    "le_Road_Surface_Conditions.fit(data1[\"Road_Surface_Conditions\"])\n",
    "le_Pedestrian_Crossing_Human_Control.fit(data1[\"Pedestrian_Crossing-Human_Control\"])\n",
    "le_Road_Type.fit(data1[\"Road_Type\"])"
   ]
  },
  {
   "cell_type": "code",
   "execution_count": 15,
   "metadata": {
    "pycharm": {}
   },
   "outputs": [],
   "source": [
    "def preprocess_time(temp_data):\n",
    "    temp_data[\"Pedestrian_Crossing-Physical_Facilities\"]= le_Pedestrian_Crossing_Physical_Facilities.transform(temp_data[\"Pedestrian_Crossing-Physical_Facilities\"])\n",
    "    temp_data[\"Light_Conditions\"]= le_Light_Conditions.transform(temp_data[\"Light_Conditions\"])\n",
    "    temp_data[\"Weather_Conditions\"] = le_Weather_Conditions.transform(temp_data[\"Weather_Conditions\"])\n",
    "    temp_data[\"Road_Surface_Conditions\"] = le_Road_Surface_Conditions.transform(temp_data[\"Road_Surface_Conditions\"])\n",
    "    temp_data[\"Pedestrian_Crossing-Human_Control\"] = le_Pedestrian_Crossing_Human_Control.transform(temp_data[\"Pedestrian_Crossing-Human_Control\"])\n",
    "    temp_data[\"Road_Type\"] = le_Road_Type.transform(temp_data[\"Road_Type\"])\n",
    "    temp_data[\"Time\"]= temp_data[\"Time\"].astype(str)\n",
    "    temp_data['Time']= temp_data['Time'].str.slice(0,2,1)\n",
    "    temp_data[\"Time\"]= temp_data[\"Time\"].astype(int)\n",
    "    return temp_data"
   ]
  },
  {
   "cell_type": "code",
   "execution_count": 16,
   "metadata": {
    "pycharm": {}
   },
   "outputs": [],
   "source": [
    "data1 = preprocess_time(data1)"
   ]
  },
  {
   "cell_type": "code",
   "execution_count": 17,
   "metadata": {
    "pycharm": {}
   },
   "outputs": [],
   "source": [
    "# le_Light_Conditions.classes_\n",
    "# data1[\"Light_Conditions\"]\n",
    "# le_Light_Conditions.transform(data1[\"Light_Conditions\"])"
   ]
  },
  {
   "cell_type": "code",
   "execution_count": 18,
   "metadata": {
    "pycharm": {}
   },
   "outputs": [],
   "source": [
    "train,test = train_test_split(data1,test_size=.20)"
   ]
  },
  {
   "cell_type": "code",
   "execution_count": 19,
   "metadata": {
    "pycharm": {}
   },
   "outputs": [],
   "source": [
    "features = [\"Longitude\", \"Latitude\", \"Number_of_Vehicles\", \"Day_of_Week\", \"Time\", \"Road_Type\", \"Speed_limit\", \"Pedestrian_Crossing-Human_Control\", \"Pedestrian_Crossing-Physical_Facilities\", \"Light_Conditions\", \"Weather_Conditions\", \"Road_Surface_Conditions\",\"Year\", \"day_of_year\", \"month\", \"Urban_or_Rural_Area\"]\n",
    "# train_features = train[[\"Longitude\", \"Latitude\", \"Number_of_Vehicles\", \"Day_of_Week\", \"Time\", \"Road_Type\", \"Speed_limit\", \"Pedestrian_Crossing-Human_Control\", \"Pedestrian_Crossing-Physical_Facilities\", \"Light_Conditions\", \"Weather_Conditions\", \"Road_Surface_Conditions\",\"Year\", \"day_of_year\", \"month\", \"Urban_or_Rural_Area\"]]\n",
    "# test_features =test[[\"Longitude\", \"Latitude\", \"Number_of_Vehicles\", \"Day_of_Week\", \"Time\", \"Road_Type\", \"Speed_limit\", \"Pedestrian_Crossing-Human_Control\", \"Pedestrian_Crossing-Physical_Facilities\", \"Light_Conditions\", \"Weather_Conditions\", \"Road_Surface_Conditions\",\"Year\", \"day_of_year\", \"month\", \"Urban_or_Rural_Area\"]]\n",
    "\n",
    "\n",
    "# features = [\"Number_of_Vehicles\", \"Day_of_Week\", \"Time\", \"Road_Type\", \"Speed_limit\", \"Pedestrian_Crossing-Human_Control\", \"Pedestrian_Crossing-Physical_Facilities\", \"Light_Conditions\", \"Weather_Conditions\", \"Road_Surface_Conditions\",\"month\", \"Urban_or_Rural_Area\"]\n",
    "# train_features = train[[ \"Number_of_Vehicles\", \"Day_of_Week\", \"Time\", \"Road_Type\", \"Speed_limit\", \"Pedestrian_Crossing-Human_Control\", \"Pedestrian_Crossing-Physical_Facilities\", \"Light_Conditions\", \"Weather_Conditions\", \"Road_Surface_Conditions\", \"month\", \"Urban_or_Rural_Area\"]]\n",
    "# test_features =test[[\"Number_of_Vehicles\", \"Day_of_Week\", \"Time\", \"Road_Type\", \"Speed_limit\", \"Pedestrian_Crossing-Human_Control\", \"Pedestrian_Crossing-Physical_Facilities\", \"Light_Conditions\", \"Weather_Conditions\", \"Road_Surface_Conditions\",\"month\", \"Urban_or_Rural_Area\"]]\n"
   ]
  },
  {
   "cell_type": "code",
   "execution_count": 20,
   "metadata": {
    "pycharm": {}
   },
   "outputs": [],
   "source": [
    "# predicted_classes = []"
   ]
  },
  {
   "cell_type": "code",
   "execution_count": 21,
   "metadata": {
    "pycharm": {}
   },
   "outputs": [],
   "source": [
    "# print(train.shape)\n",
    "# train.head(0)"
   ]
  },
  {
   "cell_type": "code",
   "execution_count": 22,
   "metadata": {
    "pycharm": {}
   },
   "outputs": [],
   "source": [
    "y_train = train['Accident_Severity']\n",
    "# x_train = train.loc[:, train.columns != 'Accident_Severity']\n",
    "x_train = train[features]\n"
   ]
  },
  {
   "cell_type": "code",
   "execution_count": 23,
   "metadata": {},
   "outputs": [],
   "source": [
    "# y_train"
   ]
  },
  {
   "cell_type": "code",
   "execution_count": 24,
   "metadata": {
    "pycharm": {}
   },
   "outputs": [],
   "source": [
    "y_test = test['Accident_Severity'] \n",
    "# x_test = test.loc[:, train.columns != 'Accident_Severity']\n",
    "x_test = test[features]"
   ]
  },
  {
   "cell_type": "code",
   "execution_count": 25,
   "metadata": {
    "pycharm": {}
   },
   "outputs": [
    {
     "name": "stdout",
     "output_type": "stream",
     "text": [
      "Empty DataFrame\n",
      "Columns: [Location_Easting_OSGR, Location_Northing_OSGR, Longitude, Latitude, Accident_Severity, Number_of_Vehicles, Day_of_Week, Time, 1st_Road_Class, 1st_Road_Number, Road_Type, Speed_limit]\n",
      "Index: []\n"
     ]
    }
   ],
   "source": [
    "print(test.loc[:, x_train.columns != 'Accident_Severity'].head(0))"
   ]
  },
  {
   "cell_type": "code",
   "execution_count": 26,
   "metadata": {
    "pycharm": {}
   },
   "outputs": [
    {
     "name": "stdout",
     "output_type": "stream",
     "text": [
      "x_train:  (1174393, 12)\n",
      "x_test:  (293599, 12)\n",
      "y_train:  (1174393,)\n",
      "y_test:  (293599,)\n"
     ]
    },
    {
     "data": {
      "text/html": [
       "<div>\n",
       "<style scoped>\n",
       "    .dataframe tbody tr th:only-of-type {\n",
       "        vertical-align: middle;\n",
       "    }\n",
       "\n",
       "    .dataframe tbody tr th {\n",
       "        vertical-align: top;\n",
       "    }\n",
       "\n",
       "    .dataframe thead th {\n",
       "        text-align: right;\n",
       "    }\n",
       "</style>\n",
       "<table border=\"1\" class=\"dataframe\">\n",
       "  <thead>\n",
       "    <tr style=\"text-align: right;\">\n",
       "      <th></th>\n",
       "      <th>Number_of_Vehicles</th>\n",
       "      <th>Day_of_Week</th>\n",
       "      <th>Time</th>\n",
       "      <th>Road_Type</th>\n",
       "      <th>Speed_limit</th>\n",
       "      <th>Pedestrian_Crossing-Human_Control</th>\n",
       "      <th>Pedestrian_Crossing-Physical_Facilities</th>\n",
       "      <th>Light_Conditions</th>\n",
       "      <th>Weather_Conditions</th>\n",
       "      <th>Road_Surface_Conditions</th>\n",
       "      <th>month</th>\n",
       "      <th>Urban_or_Rural_Area</th>\n",
       "    </tr>\n",
       "  </thead>\n",
       "  <tbody>\n",
       "  </tbody>\n",
       "</table>\n",
       "</div>"
      ],
      "text/plain": [
       "Empty DataFrame\n",
       "Columns: [Number_of_Vehicles, Day_of_Week, Time, Road_Type, Speed_limit, Pedestrian_Crossing-Human_Control, Pedestrian_Crossing-Physical_Facilities, Light_Conditions, Weather_Conditions, Road_Surface_Conditions, month, Urban_or_Rural_Area]\n",
       "Index: []"
      ]
     },
     "execution_count": 26,
     "metadata": {},
     "output_type": "execute_result"
    }
   ],
   "source": [
    "print(\"x_train: \", x_train.shape)\n",
    "print(\"x_test: \", x_test.shape)\n",
    "print(\"y_train: \", y_train.shape)\n",
    "print(\"y_test: \", y_test.shape)"
   ]
  },
  {
   "cell_type": "code",
   "execution_count": 27,
   "metadata": {
    "pycharm": {}
   },
   "outputs": [],
   "source": [
    "# print(y_test[1:10], y_train[1:10])"
   ]
  },
  {
   "cell_type": "code",
   "execution_count": null,
   "metadata": {
    "pycharm": {}
   },
   "outputs": [],
   "source": []
  },
  {
   "cell_type": "code",
   "execution_count": 28,
   "metadata": {},
   "outputs": [],
   "source": [
    "# ros = RandomOverSampler(random_state=0)\n",
    "# x_resampled, y_resampled = ros.fit_resample(x_train, y_train)\n",
    "# x_resampled, y_resampled = SMOTE().fit_resample(x_train, y_train)\n"
   ]
  },
  {
   "cell_type": "code",
   "execution_count": 29,
   "metadata": {},
   "outputs": [
    {
     "name": "stdout",
     "output_type": "stream",
     "text": [
      "(2994504, 12) (2994504,)\n"
     ]
    }
   ],
   "source": [
    "# print(x_resampled.shape, y_resampled.shape)"
   ]
  },
  {
   "cell_type": "code",
   "execution_count": 30,
   "metadata": {
    "pycharm": {}
   },
   "outputs": [],
   "source": [
    "def build_model(clf, X_train, Y_train):\n",
    "    print(clf)\n",
    "    clf.fit(X_train, Y_train)\n",
    "    return clf"
   ]
  },
  {
   "cell_type": "code",
   "execution_count": 31,
   "metadata": {
    "pycharm": {}
   },
   "outputs": [],
   "source": [
    "def predict(clf, X_test):\n",
    "    pred = clf.predict(X_test)\n",
    "    return pred"
   ]
  },
  {
   "cell_type": "code",
   "execution_count": 32,
   "metadata": {},
   "outputs": [],
   "source": [
    "def print_score(y_test, pred, average=\"macro\"):\n",
    "    print(\"Accuracy Score: {}\".format(accuracy_score(y_test, pred)))\n",
    "    print(\"Precision Score: {}\".format(precision_score(y_test, pred, average=average)))\n",
    "    print(\"Recall Score: {}\".format(recall_score(y_test, pred, average=average)))\n",
    "    print(\"F1 Score: {}\".format(f1_score(y_test, pred, average=average)))\n",
    "    "
   ]
  },
  {
   "cell_type": "code",
   "execution_count": 34,
   "metadata": {
    "pycharm": {},
    "scrolled": true
   },
   "outputs": [
    {
     "name": "stdout",
     "output_type": "stream",
     "text": [
      "RandomForestClassifier(bootstrap=True, class_weight=None, criterion='gini',\n",
      "            max_depth=None, max_features='auto', max_leaf_nodes=None,\n",
      "            min_impurity_decrease=0.0, min_impurity_split=None,\n",
      "            min_samples_leaf=1, min_samples_split=2,\n",
      "            min_weight_fraction_leaf=0.0, n_estimators=10, n_jobs=None,\n",
      "            oob_score=False, random_state=None, verbose=0,\n",
      "            warm_start=False)\n"
     ]
    }
   ],
   "source": [
    "clf_random_forest = build_model(RandomForestClassifier(n_estimators=10), x_train, y_train)\n",
    "# clf_random_forest = build_model(RandomForestClassifier(), x_resampled, y_resampled)\n"
   ]
  },
  {
   "cell_type": "code",
   "execution_count": 35,
   "metadata": {},
   "outputs": [
    {
     "name": "stdout",
     "output_type": "stream",
     "text": [
      "Accuracy Score: 0.8276186226792326\n",
      "Precision Score: 0.38154073404699584\n",
      "Recall Score: 0.34725887170790704\n",
      "F1 Score: 0.34313866212688865\n"
     ]
    }
   ],
   "source": [
    "print_score(y_test, predict(clf_random_forest, x_test))"
   ]
  },
  {
   "cell_type": "code",
   "execution_count": 36,
   "metadata": {},
   "outputs": [],
   "source": [
    "estimator = clf_random_forest.estimators_[5]"
   ]
  },
  {
   "cell_type": "code",
   "execution_count": 39,
   "metadata": {
    "pycharm": {}
   },
   "outputs": [],
   "source": [
    "export_graphviz(estimator, out_file='./tree.dot', \n",
    "                feature_names = features,\n",
    "                class_names = [\"FATAL\", \"SEVERE\", \"Slight\"],\n",
    "                rounded = True, proportion = False, \n",
    "                precision = 2, filled = True)"
   ]
  },
  {
   "cell_type": "code",
   "execution_count": null,
   "metadata": {
    "pycharm": {}
   },
   "outputs": [],
   "source": [
    "call(['dot', '-Tpng', 'tree.dot', '-o', 'tree.png', '-Gdpi=600'])"
   ]
  },
  {
   "cell_type": "code",
   "execution_count": 8,
   "metadata": {},
   "outputs": [
    {
     "data": {
      "image/png": "[encoded data removed]",
      "text/plain": [
       "<IPython.core.display.Image object>"
      ]
     },
     "execution_count": 8,
     "metadata": {},
     "output_type": "execute_result"
    }
   ],
   "source": [
    "Image(filename = 'tree.png')"
   ]
  },
  {
   "cell_type": "code",
   "execution_count": null,
   "metadata": {},
   "outputs": [],
   "source": []
  }
 ],
 "metadata": {
  "kernelspec": {
   "display_name": "Python 3",
   "language": "python",
   "name": "python3"
  },
  "language_info": {
   "codemirror_mode": {
    "name": "ipython",
    "version": 3
   },
   "file_extension": ".py",
   "mimetype": "text/x-python",
   "name": "python",
   "nbconvert_exporter": "python",
   "pygments_lexer": "ipython3",
   "version": "3.7.3"
  }
 },
 "nbformat": 4,
 "nbformat_minor": 1
}
