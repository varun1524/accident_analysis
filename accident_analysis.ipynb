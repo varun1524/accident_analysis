{
 "cells": [
  {
   "cell_type": "markdown",
   "metadata": {},
   "source": [
    "# Imports"
   ]
  },
  {
   "cell_type": "code",
   "execution_count": 34,
   "metadata": {},
   "outputs": [],
   "source": [
    "import numpy as np\n",
    "import pandas as pd\n",
    "import re\n",
    "\n",
    "#Visualisation Libraries\n",
    "import matplotlib.pyplot as plt\n",
    "\n",
    "#Training and Preprocessing Libraries\n",
    "from sklearn.model_selection import cross_val_score\n",
    "from sklearn.model_selection import train_test_split\n",
    "from sklearn.preprocessing import LabelEncoder\n",
    "from sklearn.metrics import roc_auc_score\n",
    "\n",
    "# sampling\n",
    "from imblearn.over_sampling import RandomOverSampler\n",
    "from imblearn.over_sampling import SMOTE, ADASYN\n",
    "\n",
    "# classifiers\n",
    "from sklearn.neighbors import KNeighborsClassifier\n",
    "from sklearn.ensemble import RandomForestClassifier\n",
    "from sklearn.ensemble import GradientBoostingClassifier\n",
    "from sklearn.naive_bayes import MultinomialNB\n",
    "from sklearn.naive_bayes import GaussianNB\n",
    "from sklearn.linear_model import LinearRegression\n",
    "\n",
    "\n",
    "from sklearn.metrics import f1_score, recall_score, precision_score, accuracy_score\n",
    "\n",
    "from sklearn.tree import export_graphviz\n",
    "from subprocess import call\n",
    "from IPython.display import Image"
   ]
  },
  {
   "cell_type": "markdown",
   "metadata": {},
   "source": [
    "# Preprocessing"
   ]
  },
  {
   "cell_type": "code",
   "execution_count": 35,
   "metadata": {},
   "outputs": [],
   "source": [
    "def convert_date_to_day_of_year(dt):\n",
    "    result = re.findall(r'(\\d{2})/(\\d{2})/(\\d{4})',dt)\n",
    "    return result[0][0]\n",
    "\n",
    "def convert_date_to_month(dt):\n",
    "    result = re.findall(r'(\\d{2})/(\\d{2})/(\\d{4})',dt)\n",
    "    return result[0][1]"
   ]
  },
  {
   "cell_type": "code",
   "execution_count": 36,
   "metadata": {},
   "outputs": [],
   "source": [
    "def preprocess_datetime(data):\n",
    "    data['day_of_year'] = data.Date.apply(lambda x: convert_date_to_day_of_year(x))\n",
    "    data['month'] = data.Date.apply(lambda x: convert_date_to_month(x))\n",
    "    return data"
   ]
  },
  {
   "cell_type": "code",
   "execution_count": 37,
   "metadata": {},
   "outputs": [],
   "source": [
    "def preprocess_speed(x):\n",
    "    x = int(int(x)/10)\n",
    "    return x"
   ]
  },
  {
   "cell_type": "code",
   "execution_count": null,
   "metadata": {},
   "outputs": [],
   "source": []
  },
  {
   "cell_type": "code",
   "execution_count": 38,
   "metadata": {},
   "outputs": [],
   "source": [
    "def preprocess_data(temp_data):\n",
    "    temp_data[\"Pedestrian_Crossing-Physical_Facilities\"]= le_Pedestrian_Crossing_Physical_Facilities.transform(temp_data[\"Pedestrian_Crossing-Physical_Facilities\"])\n",
    "    temp_data[\"Light_Conditions\"]= le_Light_Conditions.transform(temp_data[\"Light_Conditions\"])\n",
    "    temp_data[\"Weather_Conditions\"] = le_Weather_Conditions.transform(temp_data[\"Weather_Conditions\"])\n",
    "    temp_data[\"Road_Surface_Conditions\"] = le_Road_Surface_Conditions.transform(temp_data[\"Road_Surface_Conditions\"])\n",
    "    temp_data[\"Pedestrian_Crossing-Human_Control\"] = le_Pedestrian_Crossing_Human_Control.transform(temp_data[\"Pedestrian_Crossing-Human_Control\"])\n",
    "    temp_data[\"Road_Type\"] = le_Road_Type.transform(temp_data[\"Road_Type\"])\n",
    "    temp_data[\"Time\"] = temp_data[\"Time\"].astype(str)\n",
    "    temp_data['Time'] = temp_data['Time'].str.slice(0, 2, 1)\n",
    "    temp_data[\"Time\"] = temp_data[\"Time\"].astype(int)\n",
    "    temp_data['Speed_limit'] = temp_data.Speed_limit.apply(lambda x: preprocess_speed(x))\n",
    "    return temp_data"
   ]
  },
  {
   "cell_type": "markdown",
   "metadata": {},
   "source": [
    "# utility to build, predict and print score"
   ]
  },
  {
   "cell_type": "code",
   "execution_count": 39,
   "metadata": {},
   "outputs": [],
   "source": [
    "def build_model(clf, X_train, Y_train):\n",
    "    print(clf)\n",
    "    clf.fit(X_train, Y_train)"
   ]
  },
  {
   "cell_type": "code",
   "execution_count": 40,
   "metadata": {},
   "outputs": [],
   "source": [
    "def predict(clf, X_test):\n",
    "    pred = clf.predict(X_test)\n",
    "    return pred"
   ]
  },
  {
   "cell_type": "code",
   "execution_count": 41,
   "metadata": {},
   "outputs": [],
   "source": [
    "def print_score(y_test, pred, average=\"macro\"):\n",
    "    acc = accuracy_score(y_test, pred)\n",
    "    prec = precision_score(y_test, pred, average=average)\n",
    "    recall = recall_score(y_test, pred, average=average)\n",
    "    f2 = f1_score(y_test, pred, average=average)\n",
    "    print(\"Accuracy Score: {}\".format(acc))\n",
    "    print(\"Precision Score: {}\".format(prec))\n",
    "    print(\"Recall Score: {}\".format(recall))\n",
    "    print(\"F1 Score: {}\".format(f2))\n",
    "    return acc, prec, recall, f2"
   ]
  },
  {
   "cell_type": "markdown",
   "metadata": {},
   "source": [
    "## Target Variable"
   ]
  },
  {
   "cell_type": "code",
   "execution_count": 42,
   "metadata": {},
   "outputs": [],
   "source": [
    "class_dict = {1: 'Fatal', 2: 'Severe', 3: 'Slight'}\n",
    "\n",
    "class_labels = ['Fatal', 'Severe', 'Slight']"
   ]
  },
  {
   "cell_type": "markdown",
   "metadata": {},
   "source": [
    "## Read data to train"
   ]
  },
  {
   "cell_type": "code",
   "execution_count": 43,
   "metadata": {},
   "outputs": [],
   "source": [
    "data1 = pd.read_csv(\"./data/accidents_2005_to_2007.csv\", low_memory=False)\n",
    "data2 = pd.read_csv(\"./data/accidents_2009_to_2011.csv\", low_memory=False)\n",
    "data3 = pd.read_csv(\"./data/accidents_2012_to_2014.csv\", low_memory=False)\n",
    "\n",
    "data = pd.concat([data1, data2, data3])"
   ]
  },
  {
   "cell_type": "code",
   "execution_count": 11,
   "metadata": {},
   "outputs": [],
   "source": [
    "drop_columns = ['Date', 'Accident_Index', 'Number_of_Casualties', 'Police_Force', 'Junction_Detail',\n",
    "                'Junction_Control', 'Special_Conditions_at_Site', 'Carriageway_Hazards',\n",
    "                'Did_Police_Officer_Attend_Scene_of_Accident', 'LSOA_of_Accident_Location',\n",
    "                'Local_Authority_(District)', 'Local_Authority_(Highway)']"
   ]
  },
  {
   "cell_type": "code",
   "execution_count": 12,
   "metadata": {},
   "outputs": [],
   "source": [
    "data = preprocess_datetime(data)\n",
    "data1 = data.drop(drop_columns, axis=1, inplace=False)\n",
    "data1.dropna(inplace=True)"
   ]
  },
  {
   "cell_type": "code",
   "execution_count": 13,
   "metadata": {},
   "outputs": [
    {
     "data": {
      "text/plain": [
       "LabelEncoder()"
      ]
     },
     "execution_count": 13,
     "metadata": {},
     "output_type": "execute_result"
    }
   ],
   "source": [
    "le_Pedestrian_Crossing_Physical_Facilities = LabelEncoder()\n",
    "le_Light_Conditions = LabelEncoder()\n",
    "le_Weather_Conditions = LabelEncoder()\n",
    "le_Road_Surface_Conditions = LabelEncoder()\n",
    "le_Pedestrian_Crossing_Human_Control = LabelEncoder()\n",
    "le_Road_Type = LabelEncoder()\n",
    "\n",
    "le_Pedestrian_Crossing_Physical_Facilities.fit(data1[\"Pedestrian_Crossing-Physical_Facilities\"])\n",
    "le_Light_Conditions.fit(data1[\"Light_Conditions\"])\n",
    "le_Weather_Conditions.fit(data1[\"Weather_Conditions\"])\n",
    "le_Road_Surface_Conditions.fit(data1[\"Road_Surface_Conditions\"])\n",
    "le_Pedestrian_Crossing_Human_Control.fit(data1[\"Pedestrian_Crossing-Human_Control\"])\n",
    "le_Road_Type.fit(data1[\"Road_Type\"])"
   ]
  },
  {
   "cell_type": "code",
   "execution_count": 14,
   "metadata": {},
   "outputs": [],
   "source": [
    "data1 = data1[data1['Weather_Conditions'] != 'Unknown']\n",
    "data1 = data1[data1['Road_Type'] != 'Unknown']"
   ]
  },
  {
   "cell_type": "code",
   "execution_count": 15,
   "metadata": {},
   "outputs": [],
   "source": [
    "data1 = preprocess_data(data1)"
   ]
  },
  {
   "cell_type": "code",
   "execution_count": 16,
   "metadata": {},
   "outputs": [],
   "source": [
    "# data1"
   ]
  },
  {
   "cell_type": "code",
   "execution_count": 17,
   "metadata": {},
   "outputs": [],
   "source": [
    "train, test = train_test_split(data1, test_size=.20)"
   ]
  },
  {
   "cell_type": "code",
   "execution_count": 18,
   "metadata": {},
   "outputs": [],
   "source": [
    "# features = [\"Number_of_Vehicles\", \"Day_of_Week\", \"Time\", \"Road_Type\", \"Speed_limit\",\n",
    "#                          \"Pedestrian_Crossing-Human_Control\", \"Pedestrian_Crossing-Physical_Facilities\",\n",
    "#                          \"Light_Conditions\", \"Weather_Conditions\", \"Road_Surface_Conditions\",\n",
    "#                          \"month\"]\n",
    "features = [\"Number_of_Vehicles\", \"Time\", \"Road_Type\", \"Speed_limit\",\n",
    "                         \"Pedestrian_Crossing-Human_Control\", \"Pedestrian_Crossing-Physical_Facilities\",\n",
    "                         \"Light_Conditions\", \"Weather_Conditions\", \"Road_Surface_Conditions\"]"
   ]
  },
  {
   "cell_type": "code",
   "execution_count": 19,
   "metadata": {},
   "outputs": [],
   "source": [
    "y_train = train['Accident_Severity']\n",
    "x_train = train[features]\n",
    "\n",
    "y_test = test['Accident_Severity']\n",
    "x_test = test[features]"
   ]
  },
  {
   "cell_type": "markdown",
   "metadata": {},
   "source": [
    "## OverSampling"
   ]
  },
  {
   "cell_type": "code",
   "execution_count": 20,
   "metadata": {},
   "outputs": [],
   "source": [
    "ros = RandomOverSampler(random_state=0)\n",
    "x_resampled, y_resampled = ros.fit_resample(x_train, y_train)\n",
    "# x_resampled, y_resampled = SMOTE().fit_resample(x_train, y_train)\n",
    "# x_resampled, y_resampled = ADASYN().fit_resample(x_train, y_train)\n"
   ]
  },
  {
   "cell_type": "code",
   "execution_count": 21,
   "metadata": {},
   "outputs": [
    {
     "name": "stdout",
     "output_type": "stream",
     "text": [
      "Empty DataFrame\n",
      "Columns: [Location_Easting_OSGR, Location_Northing_OSGR, Longitude, Latitude, Accident_Severity, Number_of_Vehicles, Day_of_Week, Time, 1st_Road_Class]\n",
      "Index: []\n"
     ]
    }
   ],
   "source": [
    "print(test.loc[:, x_train.columns != 'Accident_Severity'].head(0))"
   ]
  },
  {
   "cell_type": "code",
   "execution_count": 22,
   "metadata": {},
   "outputs": [
    {
     "name": "stdout",
     "output_type": "stream",
     "text": [
      "x_train:  (1174393, 9)\n",
      "x_test:  (293599, 9)\n",
      "y_train:  (1174393,)\n",
      "y_test:  (293599,)\n"
     ]
    }
   ],
   "source": [
    "print(\"x_train: \", x_train.shape)\n",
    "print(\"x_test: \", x_test.shape)\n",
    "print(\"y_train: \", y_train.shape)\n",
    "print(\"y_test: \", y_test.shape)"
   ]
  },
  {
   "cell_type": "code",
   "execution_count": 23,
   "metadata": {},
   "outputs": [],
   "source": [
    "clf = RandomForestClassifier(n_estimators=10)"
   ]
  },
  {
   "cell_type": "code",
   "execution_count": 33,
   "metadata": {},
   "outputs": [
    {
     "name": "stdout",
     "output_type": "stream",
     "text": [
      "RandomForestClassifier(bootstrap=True, class_weight=None, criterion='gini',\n",
      "            max_depth=None, max_features='auto', max_leaf_nodes=None,\n",
      "            min_impurity_decrease=0.0, min_impurity_split=None,\n",
      "            min_samples_leaf=1, min_samples_split=2,\n",
      "            min_weight_fraction_leaf=0.0, n_estimators=10, n_jobs=None,\n",
      "            oob_score=False, random_state=None, verbose=0,\n",
      "            warm_start=False)\n",
      "Accuracy Score: 0.8470498877720973\n",
      "Precision Score: 0.3905754917892872\n",
      "Recall Score: 0.33584963796223993\n",
      "F1 Score: 0.31412463324299966\n"
     ]
    },
    {
     "data": {
      "text/plain": [
       "(0.8470498877720973,\n",
       " 0.3905754917892872,\n",
       " 0.33584963796223993,\n",
       " 0.31412463324299966)"
      ]
     },
     "execution_count": 33,
     "metadata": {},
     "output_type": "execute_result"
    }
   ],
   "source": [
    "# build_model(clf, x_train, y_train)\n",
    "clf = RandomForestClassifier(n_estimators=10)\n",
    "build_model(clf, x_train, y_train)\n",
    "pred = predict(clf, x_test)\n",
    "print_score(y_test, pred)"
   ]
  },
  {
   "cell_type": "code",
   "execution_count": null,
   "metadata": {},
   "outputs": [],
   "source": []
  },
  {
   "cell_type": "code",
   "execution_count": 25,
   "metadata": {},
   "outputs": [],
   "source": [
    "clf1 = MultinomialNB()\n",
    "clf2 = GaussianNB()"
   ]
  },
  {
   "cell_type": "code",
   "execution_count": 26,
   "metadata": {},
   "outputs": [
    {
     "name": "stdout",
     "output_type": "stream",
     "text": [
      "MultinomialNB(alpha=1.0, class_prior=None, fit_prior=True)\n",
      "Accuracy Score: 0.8505819161509406\n",
      "Precision Score: 0.28352730538364684\n",
      "Recall Score: 0.3333333333333333\n",
      "F1 Score: 0.30641962175158455\n"
     ]
    },
    {
     "name": "stderr",
     "output_type": "stream",
     "text": [
      "/Users/varunshah/venv3/lib/python3.7/site-packages/sklearn/metrics/classification.py:1143: UndefinedMetricWarning: Precision is ill-defined and being set to 0.0 in labels with no predicted samples.\n",
      "  'precision', 'predicted', average, warn_for)\n",
      "/Users/varunshah/venv3/lib/python3.7/site-packages/sklearn/metrics/classification.py:1143: UndefinedMetricWarning: F-score is ill-defined and being set to 0.0 in labels with no predicted samples.\n",
      "  'precision', 'predicted', average, warn_for)\n"
     ]
    },
    {
     "data": {
      "text/plain": [
       "(0.8505819161509406,\n",
       " 0.28352730538364684,\n",
       " 0.3333333333333333,\n",
       " 0.30641962175158455)"
      ]
     },
     "execution_count": 26,
     "metadata": {},
     "output_type": "execute_result"
    }
   ],
   "source": [
    "build_model(clf1, x_train, y_train)\n",
    "pred = predict(clf1, x_test)\n",
    "print_score(y_test, pred)"
   ]
  },
  {
   "cell_type": "code",
   "execution_count": 27,
   "metadata": {},
   "outputs": [
    {
     "name": "stdout",
     "output_type": "stream",
     "text": [
      "GaussianNB(priors=None, var_smoothing=1e-09)\n",
      "Accuracy Score: 0.8319408444851651\n",
      "Precision Score: 0.37182476403806985\n",
      "Recall Score: 0.35796435012739664\n",
      "F1 Score: 0.3337591416560202\n"
     ]
    },
    {
     "data": {
      "text/plain": [
       "(0.8319408444851651,\n",
       " 0.37182476403806985,\n",
       " 0.35796435012739664,\n",
       " 0.3337591416560202)"
      ]
     },
     "execution_count": 27,
     "metadata": {},
     "output_type": "execute_result"
    }
   ],
   "source": [
    "build_model(clf2, x_train, y_train)\n",
    "pred = predict(clf2, x_test)\n",
    "print_score(y_test, pred)"
   ]
  },
  {
   "cell_type": "code",
   "execution_count": 28,
   "metadata": {},
   "outputs": [
    {
     "name": "stdout",
     "output_type": "stream",
     "text": [
      "(293599, 9)\n",
      "293599\n"
     ]
    }
   ],
   "source": [
    "# y_test.shape\n",
    "print(x_test.shape)\n",
    "print(len(pred))"
   ]
  },
  {
   "cell_type": "code",
   "execution_count": 29,
   "metadata": {},
   "outputs": [],
   "source": [
    "def get_console(pred, class_label):\n",
    "    for i in range(len(pred)):\n",
    "        if pred[i] == class_label:\n",
    "            return i"
   ]
  },
  {
   "cell_type": "code",
   "execution_count": 30,
   "metadata": {},
   "outputs": [],
   "source": [
    "def print_df_row(ind):\n",
    "    df = pd.DataFrame(columns=features)\n",
    "    df.loc[1] = x_test.iloc[ind]\n",
    "    print(\"print_df: \")\n",
    "    print(df)\n",
    "    return df"
   ]
  },
  {
   "cell_type": "code",
   "execution_count": 31,
   "metadata": {},
   "outputs": [
    {
     "name": "stdout",
     "output_type": "stream",
     "text": [
      "print_df: \n",
      "  Number_of_Vehicles Time Road_Type Speed_limit  \\\n",
      "1                  1   23         3           6   \n",
      "\n",
      "  Pedestrian_Crossing-Human_Control Pedestrian_Crossing-Physical_Facilities  \\\n",
      "1                                 2                                       2   \n",
      "\n",
      "  Light_Conditions Weather_Conditions Road_Surface_Conditions  \n",
      "1                0                  3                       2  \n"
     ]
    },
    {
     "data": {
      "text/html": [
       "<div>\n",
       "<style scoped>\n",
       "    .dataframe tbody tr th:only-of-type {\n",
       "        vertical-align: middle;\n",
       "    }\n",
       "\n",
       "    .dataframe tbody tr th {\n",
       "        vertical-align: top;\n",
       "    }\n",
       "\n",
       "    .dataframe thead th {\n",
       "        text-align: right;\n",
       "    }\n",
       "</style>\n",
       "<table border=\"1\" class=\"dataframe\">\n",
       "  <thead>\n",
       "    <tr style=\"text-align: right;\">\n",
       "      <th></th>\n",
       "      <th>Number_of_Vehicles</th>\n",
       "      <th>Time</th>\n",
       "      <th>Road_Type</th>\n",
       "      <th>Speed_limit</th>\n",
       "      <th>Pedestrian_Crossing-Human_Control</th>\n",
       "      <th>Pedestrian_Crossing-Physical_Facilities</th>\n",
       "      <th>Light_Conditions</th>\n",
       "      <th>Weather_Conditions</th>\n",
       "      <th>Road_Surface_Conditions</th>\n",
       "    </tr>\n",
       "  </thead>\n",
       "  <tbody>\n",
       "    <tr>\n",
       "      <th>1</th>\n",
       "      <td>1</td>\n",
       "      <td>23</td>\n",
       "      <td>3</td>\n",
       "      <td>6</td>\n",
       "      <td>2</td>\n",
       "      <td>2</td>\n",
       "      <td>0</td>\n",
       "      <td>3</td>\n",
       "      <td>2</td>\n",
       "    </tr>\n",
       "  </tbody>\n",
       "</table>\n",
       "</div>"
      ],
      "text/plain": [
       "  Number_of_Vehicles Time Road_Type Speed_limit  \\\n",
       "1                  1   23         3           6   \n",
       "\n",
       "  Pedestrian_Crossing-Human_Control Pedestrian_Crossing-Physical_Facilities  \\\n",
       "1                                 2                                       2   \n",
       "\n",
       "  Light_Conditions Weather_Conditions Road_Surface_Conditions  \n",
       "1                0                  3                       2  "
      ]
     },
     "execution_count": 31,
     "metadata": {},
     "output_type": "execute_result"
    }
   ],
   "source": [
    "index = get_console(pred, 2)\n",
    "temp_df = print_df_row(index)\n",
    "temp_df"
   ]
  },
  {
   "cell_type": "code",
   "execution_count": 32,
   "metadata": {},
   "outputs": [],
   "source": [
    "df1 = pd.DataFrame(columns=features)\n",
    "df1.loc[1] = x_test.iloc[index]\n",
    "# temp_df"
   ]
  },
  {
   "cell_type": "code",
   "execution_count": 40,
   "metadata": {},
   "outputs": [],
   "source": [
    "input_dict = {}\n",
    "# input_data =  {\n",
    "#     'Pedestrian_Crossing-Physical_Facilities': 'No physical crossing within 50 meters', \n",
    "#       'Light_Conditions': 'Daylight: Street light present', \n",
    "#     'Weather_Conditions': 'Fine without high winds', \n",
    "#     'Road_Surface_Conditions': 'Dry', \n",
    "#     'Pedestrian_Crossing-Human_Control': 'None within 50 metres', \n",
    "#     'Road_Type': 'Single carriageway', \n",
    "#     'Number_of_Vehicles': '4', \n",
    "#     'Day_of_Week': '1', \n",
    "#     'Time': '14:00', \n",
    "#     'Speed_limit': '50', \n",
    "#     'month': '4'}\n",
    "input_data = {'Pedestrian_Crossing-Physical_Facilities': 'No physical crossing within 50 meters', 'Light_Conditions': 'Darkness: Street lights present and lit', 'Weather_Conditions': 'Fine without high winds', 'Road_Surface_Conditions': 'Wet/Damp', 'Pedestrian_Crossing-Human_Control': 'None within 50 metres', 'Road_Type': 'Single carriageway', 'Number_of_Vehicles': '2', 'Day_of_Week': '2', 'Time': '20:00', 'Speed_limit': '30', 'month': '5'}"
   ]
  },
  {
   "cell_type": "code",
   "execution_count": 41,
   "metadata": {},
   "outputs": [
    {
     "data": {
      "text/plain": [
       "{'Pedestrian_Crossing-Physical_Facilities': ['No physical crossing within 50 meters'],\n",
       " 'Light_Conditions': ['Darkness: Street lights present and lit'],\n",
       " 'Weather_Conditions': ['Fine without high winds'],\n",
       " 'Road_Surface_Conditions': ['Wet/Damp'],\n",
       " 'Pedestrian_Crossing-Human_Control': ['None within 50 metres'],\n",
       " 'Road_Type': ['Single carriageway'],\n",
       " 'Number_of_Vehicles': ['2'],\n",
       " 'Day_of_Week': ['2'],\n",
       " 'Time': ['20:00'],\n",
       " 'Speed_limit': ['30'],\n",
       " 'month': ['5']}"
      ]
     },
     "execution_count": 41,
     "metadata": {},
     "output_type": "execute_result"
    }
   ],
   "source": [
    "for key, value in input_data.items():\n",
    "    input_dict[key] = [value]\n",
    "input_dict"
   ]
  },
  {
   "cell_type": "code",
   "execution_count": 42,
   "metadata": {},
   "outputs": [
    {
     "name": "stdout",
     "output_type": "stream",
     "text": [
      "Number_of_Vehicles                          1\n",
      "Time                                        8\n",
      "Road_Type                                   3\n",
      "Speed_limit                                30\n",
      "Pedestrian_Crossing-Human_Control           2\n",
      "Pedestrian_Crossing-Physical_Facilities     5\n",
      "Light_Conditions                            4\n",
      "Weather_Conditions                          1\n",
      "Road_Surface_Conditions                     0\n",
      "Name: 348947, dtype: int64\n"
     ]
    }
   ],
   "source": [
    "print(x_test.iloc[index])"
   ]
  },
  {
   "cell_type": "code",
   "execution_count": 43,
   "metadata": {},
   "outputs": [
    {
     "name": "stdout",
     "output_type": "stream",
     "text": [
      "  Number_of_Vehicles  Time  Road_Type Speed_limit  \\\n",
      "0                  2    20          3          30   \n",
      "\n",
      "   Pedestrian_Crossing-Human_Control  Pedestrian_Crossing-Physical_Facilities  \\\n",
      "0                                  2                                        2   \n",
      "\n",
      "   Light_Conditions  Weather_Conditions  Road_Surface_Conditions  \n",
      "0                 2                   1                        4  \n"
     ]
    }
   ],
   "source": [
    "df = pd.DataFrame.from_dict(input_dict)\n",
    "df = preprocess_data(df)\n",
    "df = df[features]\n",
    "print(df)"
   ]
  },
  {
   "cell_type": "code",
   "execution_count": 44,
   "metadata": {},
   "outputs": [
    {
     "data": {
      "text/plain": [
       "array([3])"
      ]
     },
     "execution_count": 44,
     "metadata": {},
     "output_type": "execute_result"
    }
   ],
   "source": [
    "predict(clf, df)\n"
   ]
  },
  {
   "cell_type": "code",
   "execution_count": 45,
   "metadata": {},
   "outputs": [
    {
     "data": {
      "text/plain": [
       "array([2])"
      ]
     },
     "execution_count": 45,
     "metadata": {},
     "output_type": "execute_result"
    }
   ],
   "source": [
    "predict(clf, df1)"
   ]
  },
  {
   "cell_type": "code",
   "execution_count": 46,
   "metadata": {},
   "outputs": [
    {
     "data": {
      "text/html": [
       "<div>\n",
       "<style scoped>\n",
       "    .dataframe tbody tr th:only-of-type {\n",
       "        vertical-align: middle;\n",
       "    }\n",
       "\n",
       "    .dataframe tbody tr th {\n",
       "        vertical-align: top;\n",
       "    }\n",
       "\n",
       "    .dataframe thead th {\n",
       "        text-align: right;\n",
       "    }\n",
       "</style>\n",
       "<table border=\"1\" class=\"dataframe\">\n",
       "  <thead>\n",
       "    <tr style=\"text-align: right;\">\n",
       "      <th></th>\n",
       "      <th>Number_of_Vehicles</th>\n",
       "      <th>Time</th>\n",
       "      <th>Road_Type</th>\n",
       "      <th>Speed_limit</th>\n",
       "      <th>Pedestrian_Crossing-Human_Control</th>\n",
       "      <th>Pedestrian_Crossing-Physical_Facilities</th>\n",
       "      <th>Light_Conditions</th>\n",
       "      <th>Weather_Conditions</th>\n",
       "      <th>Road_Surface_Conditions</th>\n",
       "    </tr>\n",
       "  </thead>\n",
       "  <tbody>\n",
       "    <tr>\n",
       "      <th>0</th>\n",
       "      <td>2</td>\n",
       "      <td>20</td>\n",
       "      <td>3</td>\n",
       "      <td>30</td>\n",
       "      <td>2</td>\n",
       "      <td>2</td>\n",
       "      <td>2</td>\n",
       "      <td>1</td>\n",
       "      <td>4</td>\n",
       "    </tr>\n",
       "  </tbody>\n",
       "</table>\n",
       "</div>"
      ],
      "text/plain": [
       "  Number_of_Vehicles  Time  Road_Type Speed_limit  \\\n",
       "0                  2    20          3          30   \n",
       "\n",
       "   Pedestrian_Crossing-Human_Control  Pedestrian_Crossing-Physical_Facilities  \\\n",
       "0                                  2                                        2   \n",
       "\n",
       "   Light_Conditions  Weather_Conditions  Road_Surface_Conditions  \n",
       "0                 2                   1                        4  "
      ]
     },
     "execution_count": 46,
     "metadata": {},
     "output_type": "execute_result"
    }
   ],
   "source": [
    "df"
   ]
  },
  {
   "cell_type": "code",
   "execution_count": 71,
   "metadata": {
    "scrolled": true
   },
   "outputs": [
    {
     "data": {
      "text/html": [
       "<div>\n",
       "<style scoped>\n",
       "    .dataframe tbody tr th:only-of-type {\n",
       "        vertical-align: middle;\n",
       "    }\n",
       "\n",
       "    .dataframe tbody tr th {\n",
       "        vertical-align: top;\n",
       "    }\n",
       "\n",
       "    .dataframe thead th {\n",
       "        text-align: right;\n",
       "    }\n",
       "</style>\n",
       "<table border=\"1\" class=\"dataframe\">\n",
       "  <thead>\n",
       "    <tr style=\"text-align: right;\">\n",
       "      <th></th>\n",
       "      <th>Number_of_Vehicles</th>\n",
       "      <th>Day_of_Week</th>\n",
       "      <th>Time</th>\n",
       "      <th>Road_Type</th>\n",
       "      <th>Speed_limit</th>\n",
       "      <th>Pedestrian_Crossing-Human_Control</th>\n",
       "      <th>Pedestrian_Crossing-Physical_Facilities</th>\n",
       "      <th>Light_Conditions</th>\n",
       "      <th>Weather_Conditions</th>\n",
       "      <th>Road_Surface_Conditions</th>\n",
       "      <th>month</th>\n",
       "    </tr>\n",
       "  </thead>\n",
       "  <tbody>\n",
       "    <tr>\n",
       "      <th>1</th>\n",
       "      <td>2</td>\n",
       "      <td>2</td>\n",
       "      <td>20</td>\n",
       "      <td>3</td>\n",
       "      <td>30</td>\n",
       "      <td>2</td>\n",
       "      <td>2</td>\n",
       "      <td>2</td>\n",
       "      <td>1</td>\n",
       "      <td>4</td>\n",
       "      <td>05</td>\n",
       "    </tr>\n",
       "  </tbody>\n",
       "</table>\n",
       "</div>"
      ],
      "text/plain": [
       "  Number_of_Vehicles Day_of_Week Time Road_Type Speed_limit  \\\n",
       "1                  2           2   20         3          30   \n",
       "\n",
       "  Pedestrian_Crossing-Human_Control Pedestrian_Crossing-Physical_Facilities  \\\n",
       "1                                 2                                       2   \n",
       "\n",
       "  Light_Conditions Weather_Conditions Road_Surface_Conditions month  \n",
       "1                2                  1                       4    05  "
      ]
     },
     "execution_count": 71,
     "metadata": {},
     "output_type": "execute_result"
    }
   ],
   "source": [
    "df1"
   ]
  },
  {
   "cell_type": "code",
   "execution_count": 51,
   "metadata": {},
   "outputs": [
    {
     "name": "stdout",
     "output_type": "stream",
     "text": [
      "32\n"
     ]
    }
   ],
   "source": []
  },
  {
   "cell_type": "code",
   "execution_count": 73,
   "metadata": {},
   "outputs": [
    {
     "name": "stdout",
     "output_type": "stream",
     "text": [
      "['Central refuge' 'Footbridge or subway'\n",
      " 'No physical crossing within 50 meters'\n",
      " 'Pedestrian phase at traffic signal junction' 'Zebra crossing'\n",
      " 'non-junction pedestrian crossing']\n",
      "['Central refuge' 'Footbridge or subway'\n",
      " 'No physical crossing within 50 meters'\n",
      " 'Pedestrian phase at traffic signal junction' 'Zebra crossing'\n",
      " 'non-junction pedestrian crossing']\n",
      "['Darkeness: No street lighting' 'Darkness: Street lighting unknown'\n",
      " 'Darkness: Street lights present and lit'\n",
      " 'Darkness: Street lights present but unlit'\n",
      " 'Daylight: Street light present']\n",
      "['Fine with high winds' 'Fine without high winds' 'Fog or mist' 'Other'\n",
      " 'Raining with high winds' 'Raining without high winds'\n",
      " 'Snowing with high winds' 'Snowing without high winds' 'Unknown']\n",
      "['Dry' 'Flood (Over 3cm of water)' 'Frost/Ice' 'Snow' 'Wet/Damp']\n",
      "['Control by other authorised person' 'Control by school crossing patrol'\n",
      " 'None within 50 metres']\n",
      "['Dual carriageway' 'One way street' 'Roundabout' 'Single carriageway'\n",
      " 'Slip road' 'Unknown']\n"
     ]
    }
   ],
   "source": [
    "# a = pd.DataFrame(columns=[\"Footbridge or subway\"])\n",
    "print(le_Pedestrian_Crossing_Physical_Facilities.classes_)\n",
    "print(le_Pedestrian_Crossing_Physical_Facilities.classes_)\n",
    "print(le_Light_Conditions.classes_)\n",
    "print(le_Weather_Conditions.classes_)\n",
    "print(le_Road_Surface_Conditions.classes_)\n",
    "print(le_Pedestrian_Crossing_Human_Control.classes_)\n",
    "print(le_Road_Type.classes_)"
   ]
  },
  {
   "cell_type": "code",
   "execution_count": null,
   "metadata": {},
   "outputs": [],
   "source": []
  }
 ],
 "metadata": {
  "kernelspec": {
   "display_name": "Python 3",
   "language": "python",
   "name": "python3"
  },
  "language_info": {
   "codemirror_mode": {
    "name": "ipython",
    "version": 3
   },
   "file_extension": ".py",
   "mimetype": "text/x-python",
   "name": "python",
   "nbconvert_exporter": "python",
   "pygments_lexer": "ipython3",
   "version": "3.7.3"
  }
 },
 "nbformat": 4,
 "nbformat_minor": 2
}
